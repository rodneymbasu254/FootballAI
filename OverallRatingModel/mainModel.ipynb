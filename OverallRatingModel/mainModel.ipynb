{
 "cells": [
  {
   "cell_type": "markdown",
   "id": "bb9744e8-80ff-4e6c-820c-0b811fed85f0",
   "metadata": {},
   "source": [
    "# Data manipulation"
   ]
  },
  {
   "cell_type": "code",
   "execution_count": 1,
   "id": "3ee2debb-ef38-4e43-a94d-e3201d19d534",
   "metadata": {},
   "outputs": [],
   "source": [
    "import numpy as np\n",
    "import pandas as pd\n",
    "import matplotlib.pyplot as plt"
   ]
  },
  {
   "cell_type": "markdown",
   "id": "c8749e5e-e9f2-404b-933f-a71ed2967fd0",
   "metadata": {},
   "source": [
    "# Data Cleaning"
   ]
  },
  {
   "cell_type": "code",
   "execution_count": 2,
   "id": "03baeef6-7ccc-4cd2-8068-99dc69999251",
   "metadata": {},
   "outputs": [
    {
     "data": {
      "text/html": [
       "<div>\n",
       "<style scoped>\n",
       "    .dataframe tbody tr th:only-of-type {\n",
       "        vertical-align: middle;\n",
       "    }\n",
       "\n",
       "    .dataframe tbody tr th {\n",
       "        vertical-align: top;\n",
       "    }\n",
       "\n",
       "    .dataframe thead th {\n",
       "        text-align: right;\n",
       "    }\n",
       "</style>\n",
       "<table border=\"1\" class=\"dataframe\">\n",
       "  <thead>\n",
       "    <tr style=\"text-align: right;\">\n",
       "      <th></th>\n",
       "      <th>Unnamed: 0</th>\n",
       "      <th>name</th>\n",
       "      <th>full_name</th>\n",
       "      <th>birth_date</th>\n",
       "      <th>age</th>\n",
       "      <th>height_cm</th>\n",
       "      <th>weight_kgs</th>\n",
       "      <th>positions</th>\n",
       "      <th>nationality</th>\n",
       "      <th>overall_rating</th>\n",
       "      <th>...</th>\n",
       "      <th>long_shots</th>\n",
       "      <th>aggression</th>\n",
       "      <th>interceptions</th>\n",
       "      <th>positioning</th>\n",
       "      <th>vision</th>\n",
       "      <th>penalties</th>\n",
       "      <th>composure</th>\n",
       "      <th>marking</th>\n",
       "      <th>standing_tackle</th>\n",
       "      <th>sliding_tackle</th>\n",
       "    </tr>\n",
       "  </thead>\n",
       "  <tbody>\n",
       "    <tr>\n",
       "      <th>0</th>\n",
       "      <td>0</td>\n",
       "      <td>L. Messi</td>\n",
       "      <td>Lionel Andrés Messi Cuccittini</td>\n",
       "      <td>6/24/1987</td>\n",
       "      <td>31</td>\n",
       "      <td>170.18</td>\n",
       "      <td>72.1</td>\n",
       "      <td>CF,RW,ST</td>\n",
       "      <td>Argentina</td>\n",
       "      <td>94</td>\n",
       "      <td>...</td>\n",
       "      <td>94</td>\n",
       "      <td>48</td>\n",
       "      <td>22</td>\n",
       "      <td>94</td>\n",
       "      <td>94</td>\n",
       "      <td>75</td>\n",
       "      <td>96</td>\n",
       "      <td>33</td>\n",
       "      <td>28</td>\n",
       "      <td>26</td>\n",
       "    </tr>\n",
       "    <tr>\n",
       "      <th>1</th>\n",
       "      <td>1</td>\n",
       "      <td>C. Eriksen</td>\n",
       "      <td>Christian  Dannemann Eriksen</td>\n",
       "      <td>2/14/1992</td>\n",
       "      <td>27</td>\n",
       "      <td>154.94</td>\n",
       "      <td>76.2</td>\n",
       "      <td>CAM,RM,CM</td>\n",
       "      <td>Denmark</td>\n",
       "      <td>88</td>\n",
       "      <td>...</td>\n",
       "      <td>89</td>\n",
       "      <td>46</td>\n",
       "      <td>56</td>\n",
       "      <td>84</td>\n",
       "      <td>91</td>\n",
       "      <td>67</td>\n",
       "      <td>88</td>\n",
       "      <td>59</td>\n",
       "      <td>57</td>\n",
       "      <td>22</td>\n",
       "    </tr>\n",
       "    <tr>\n",
       "      <th>2</th>\n",
       "      <td>2</td>\n",
       "      <td>P. Pogba</td>\n",
       "      <td>Paul Pogba</td>\n",
       "      <td>3/15/1993</td>\n",
       "      <td>25</td>\n",
       "      <td>190.50</td>\n",
       "      <td>83.9</td>\n",
       "      <td>CM,CAM</td>\n",
       "      <td>France</td>\n",
       "      <td>88</td>\n",
       "      <td>...</td>\n",
       "      <td>82</td>\n",
       "      <td>78</td>\n",
       "      <td>64</td>\n",
       "      <td>82</td>\n",
       "      <td>88</td>\n",
       "      <td>82</td>\n",
       "      <td>87</td>\n",
       "      <td>63</td>\n",
       "      <td>67</td>\n",
       "      <td>67</td>\n",
       "    </tr>\n",
       "    <tr>\n",
       "      <th>3</th>\n",
       "      <td>3</td>\n",
       "      <td>L. Insigne</td>\n",
       "      <td>Lorenzo Insigne</td>\n",
       "      <td>6/4/1991</td>\n",
       "      <td>27</td>\n",
       "      <td>162.56</td>\n",
       "      <td>59.0</td>\n",
       "      <td>LW,ST</td>\n",
       "      <td>Italy</td>\n",
       "      <td>88</td>\n",
       "      <td>...</td>\n",
       "      <td>84</td>\n",
       "      <td>34</td>\n",
       "      <td>26</td>\n",
       "      <td>83</td>\n",
       "      <td>87</td>\n",
       "      <td>61</td>\n",
       "      <td>83</td>\n",
       "      <td>51</td>\n",
       "      <td>24</td>\n",
       "      <td>22</td>\n",
       "    </tr>\n",
       "    <tr>\n",
       "      <th>4</th>\n",
       "      <td>4</td>\n",
       "      <td>K. Koulibaly</td>\n",
       "      <td>Kalidou Koulibaly</td>\n",
       "      <td>6/20/1991</td>\n",
       "      <td>27</td>\n",
       "      <td>187.96</td>\n",
       "      <td>88.9</td>\n",
       "      <td>CB</td>\n",
       "      <td>Senegal</td>\n",
       "      <td>88</td>\n",
       "      <td>...</td>\n",
       "      <td>15</td>\n",
       "      <td>87</td>\n",
       "      <td>88</td>\n",
       "      <td>24</td>\n",
       "      <td>49</td>\n",
       "      <td>33</td>\n",
       "      <td>80</td>\n",
       "      <td>91</td>\n",
       "      <td>88</td>\n",
       "      <td>87</td>\n",
       "    </tr>\n",
       "  </tbody>\n",
       "</table>\n",
       "<p>5 rows × 46 columns</p>\n",
       "</div>"
      ],
      "text/plain": [
       "   Unnamed: 0          name                       full_name birth_date  age  \\\n",
       "0           0      L. Messi  Lionel Andrés Messi Cuccittini  6/24/1987   31   \n",
       "1           1    C. Eriksen    Christian  Dannemann Eriksen  2/14/1992   27   \n",
       "2           2      P. Pogba                      Paul Pogba  3/15/1993   25   \n",
       "3           3    L. Insigne                 Lorenzo Insigne   6/4/1991   27   \n",
       "4           4  K. Koulibaly               Kalidou Koulibaly  6/20/1991   27   \n",
       "\n",
       "   height_cm  weight_kgs  positions nationality  overall_rating  ...  \\\n",
       "0     170.18        72.1   CF,RW,ST   Argentina              94  ...   \n",
       "1     154.94        76.2  CAM,RM,CM     Denmark              88  ...   \n",
       "2     190.50        83.9     CM,CAM      France              88  ...   \n",
       "3     162.56        59.0      LW,ST       Italy              88  ...   \n",
       "4     187.96        88.9         CB     Senegal              88  ...   \n",
       "\n",
       "   long_shots  aggression  interceptions positioning  vision  penalties  \\\n",
       "0          94          48             22          94      94         75   \n",
       "1          89          46             56          84      91         67   \n",
       "2          82          78             64          82      88         82   \n",
       "3          84          34             26          83      87         61   \n",
       "4          15          87             88          24      49         33   \n",
       "\n",
       "   composure  marking  standing_tackle  sliding_tackle  \n",
       "0         96       33               28              26  \n",
       "1         88       59               57              22  \n",
       "2         87       63               67              67  \n",
       "3         83       51               24              22  \n",
       "4         80       91               88              87  \n",
       "\n",
       "[5 rows x 46 columns]"
      ]
     },
     "execution_count": 2,
     "metadata": {},
     "output_type": "execute_result"
    }
   ],
   "source": [
    "data = pd.read_csv('newData.csv')\n",
    "data.head()"
   ]
  },
  {
   "cell_type": "code",
   "execution_count": 3,
   "id": "6f6ea94d-ad90-48de-9ac8-c4427d533b3a",
   "metadata": {},
   "outputs": [
    {
     "name": "stdout",
     "output_type": "stream",
     "text": [
      "shape looks like this:  (17954, 46)\n",
      "         Unnamed: 0           age     height_cm    weight_kgs  overall_rating  \\\n",
      "count  17954.000000  17954.000000  17954.000000  17954.000000    17954.000000   \n",
      "mean    8976.500000     25.565445    174.946921     75.301047       66.240169   \n",
      "std     5183.017702      4.705708     14.029449      7.083684        6.963730   \n",
      "min        0.000000     17.000000    152.400000     49.900000       47.000000   \n",
      "25%     4488.250000     22.000000    154.940000     69.900000       62.000000   \n",
      "50%     8976.500000     25.000000    175.260000     74.800000       66.000000   \n",
      "75%    13464.750000     29.000000    185.420000     79.800000       71.000000   \n",
      "max    17953.000000     46.000000    205.740000    110.200000       94.000000   \n",
      "\n",
      "          potential    value_euro      wage_euro  \\\n",
      "count  17954.000000  1.769900e+04   17708.000000   \n",
      "mean      71.430935  2.479280e+06    9902.134628   \n",
      "std        6.131339  5.687014e+06   21995.593750   \n",
      "min       48.000000  1.000000e+04    1000.000000   \n",
      "25%       67.000000  3.250000e+05    1000.000000   \n",
      "50%       71.000000  7.000000e+05    3000.000000   \n",
      "75%       75.000000  2.100000e+06    9000.000000   \n",
      "max       95.000000  1.105000e+08  565000.000000   \n",
      "\n",
      "       international_reputation(1-5)  weak_foot(1-5)  ...    long_shots  \\\n",
      "count                   17954.000000    17954.000000  ...  17954.000000   \n",
      "mean                        1.111674        2.945695  ...     46.852456   \n",
      "std                         0.392168        0.663691  ...     19.429337   \n",
      "min                         1.000000        1.000000  ...      3.000000   \n",
      "25%                         1.000000        3.000000  ...     32.000000   \n",
      "50%                         1.000000        3.000000  ...     51.000000   \n",
      "75%                         1.000000        3.000000  ...     62.000000   \n",
      "max                         5.000000        5.000000  ...     94.000000   \n",
      "\n",
      "         aggression  interceptions   positioning        vision     penalties  \\\n",
      "count  17954.000000   17954.000000  17954.000000  17954.000000  17954.000000   \n",
      "mean      55.816531      46.657959     49.857302     53.406260     48.357302   \n",
      "std       17.394047      20.754649     19.694311     14.156038     15.810844   \n",
      "min       11.000000       3.000000      2.000000     10.000000      5.000000   \n",
      "25%       44.000000      26.000000     38.000000     44.000000     38.000000   \n",
      "50%       59.000000      52.000000     55.000000     55.000000     49.000000   \n",
      "75%       69.000000      64.000000     64.000000     64.000000     60.000000   \n",
      "max       95.000000      92.000000     95.000000     94.000000     92.000000   \n",
      "\n",
      "          composure       marking  standing_tackle  sliding_tackle  \n",
      "count  17954.000000  17954.000000     17954.000000    17954.000000  \n",
      "mean      58.680183     47.162861        47.733040       45.705915  \n",
      "std       11.625541     20.037346        21.674973       21.285812  \n",
      "min       12.000000      3.000000         2.000000        3.000000  \n",
      "25%       51.000000     30.000000        27.000000       24.000000  \n",
      "50%       60.000000     52.500000        55.000000       52.000000  \n",
      "75%       67.000000     64.000000        66.000000       64.000000  \n",
      "max       96.000000     94.000000        93.000000       90.000000  \n",
      "\n",
      "[8 rows x 40 columns]\n"
     ]
    }
   ],
   "source": [
    "print('shape looks like this: ', data.shape)\n",
    "print(data.describe())"
   ]
  },
  {
   "cell_type": "code",
   "execution_count": 4,
   "id": "d2032c7a-37df-418a-a149-45d27fbb4e5a",
   "metadata": {},
   "outputs": [
    {
     "data": {
      "text/html": [
       "<div>\n",
       "<style scoped>\n",
       "    .dataframe tbody tr th:only-of-type {\n",
       "        vertical-align: middle;\n",
       "    }\n",
       "\n",
       "    .dataframe tbody tr th {\n",
       "        vertical-align: top;\n",
       "    }\n",
       "\n",
       "    .dataframe thead th {\n",
       "        text-align: right;\n",
       "    }\n",
       "</style>\n",
       "<table border=\"1\" class=\"dataframe\">\n",
       "  <thead>\n",
       "    <tr style=\"text-align: right;\">\n",
       "      <th></th>\n",
       "      <th>Unnamed: 0</th>\n",
       "      <th>name</th>\n",
       "      <th>full_name</th>\n",
       "      <th>birth_date</th>\n",
       "      <th>age</th>\n",
       "      <th>height_cm</th>\n",
       "      <th>weight_kgs</th>\n",
       "      <th>positions</th>\n",
       "      <th>nationality</th>\n",
       "      <th>overall_rating</th>\n",
       "      <th>...</th>\n",
       "      <th>long_shots</th>\n",
       "      <th>aggression</th>\n",
       "      <th>interceptions</th>\n",
       "      <th>positioning</th>\n",
       "      <th>vision</th>\n",
       "      <th>penalties</th>\n",
       "      <th>composure</th>\n",
       "      <th>marking</th>\n",
       "      <th>standing_tackle</th>\n",
       "      <th>sliding_tackle</th>\n",
       "    </tr>\n",
       "  </thead>\n",
       "  <tbody>\n",
       "    <tr>\n",
       "      <th>0</th>\n",
       "      <td>0</td>\n",
       "      <td>L. Messi</td>\n",
       "      <td>Lionel Andrés Messi Cuccittini</td>\n",
       "      <td>6/24/1987</td>\n",
       "      <td>31</td>\n",
       "      <td>170.18</td>\n",
       "      <td>72.1</td>\n",
       "      <td>CF,RW,ST</td>\n",
       "      <td>Argentina</td>\n",
       "      <td>94</td>\n",
       "      <td>...</td>\n",
       "      <td>94</td>\n",
       "      <td>48</td>\n",
       "      <td>22</td>\n",
       "      <td>94</td>\n",
       "      <td>94</td>\n",
       "      <td>75</td>\n",
       "      <td>96</td>\n",
       "      <td>33</td>\n",
       "      <td>28</td>\n",
       "      <td>26</td>\n",
       "    </tr>\n",
       "    <tr>\n",
       "      <th>1</th>\n",
       "      <td>1</td>\n",
       "      <td>C. Eriksen</td>\n",
       "      <td>Christian  Dannemann Eriksen</td>\n",
       "      <td>2/14/1992</td>\n",
       "      <td>27</td>\n",
       "      <td>154.94</td>\n",
       "      <td>76.2</td>\n",
       "      <td>CAM,RM,CM</td>\n",
       "      <td>Denmark</td>\n",
       "      <td>88</td>\n",
       "      <td>...</td>\n",
       "      <td>89</td>\n",
       "      <td>46</td>\n",
       "      <td>56</td>\n",
       "      <td>84</td>\n",
       "      <td>91</td>\n",
       "      <td>67</td>\n",
       "      <td>88</td>\n",
       "      <td>59</td>\n",
       "      <td>57</td>\n",
       "      <td>22</td>\n",
       "    </tr>\n",
       "    <tr>\n",
       "      <th>2</th>\n",
       "      <td>2</td>\n",
       "      <td>P. Pogba</td>\n",
       "      <td>Paul Pogba</td>\n",
       "      <td>3/15/1993</td>\n",
       "      <td>25</td>\n",
       "      <td>190.50</td>\n",
       "      <td>83.9</td>\n",
       "      <td>CM,CAM</td>\n",
       "      <td>France</td>\n",
       "      <td>88</td>\n",
       "      <td>...</td>\n",
       "      <td>82</td>\n",
       "      <td>78</td>\n",
       "      <td>64</td>\n",
       "      <td>82</td>\n",
       "      <td>88</td>\n",
       "      <td>82</td>\n",
       "      <td>87</td>\n",
       "      <td>63</td>\n",
       "      <td>67</td>\n",
       "      <td>67</td>\n",
       "    </tr>\n",
       "    <tr>\n",
       "      <th>3</th>\n",
       "      <td>3</td>\n",
       "      <td>L. Insigne</td>\n",
       "      <td>Lorenzo Insigne</td>\n",
       "      <td>6/4/1991</td>\n",
       "      <td>27</td>\n",
       "      <td>162.56</td>\n",
       "      <td>59.0</td>\n",
       "      <td>LW,ST</td>\n",
       "      <td>Italy</td>\n",
       "      <td>88</td>\n",
       "      <td>...</td>\n",
       "      <td>84</td>\n",
       "      <td>34</td>\n",
       "      <td>26</td>\n",
       "      <td>83</td>\n",
       "      <td>87</td>\n",
       "      <td>61</td>\n",
       "      <td>83</td>\n",
       "      <td>51</td>\n",
       "      <td>24</td>\n",
       "      <td>22</td>\n",
       "    </tr>\n",
       "    <tr>\n",
       "      <th>4</th>\n",
       "      <td>4</td>\n",
       "      <td>K. Koulibaly</td>\n",
       "      <td>Kalidou Koulibaly</td>\n",
       "      <td>6/20/1991</td>\n",
       "      <td>27</td>\n",
       "      <td>187.96</td>\n",
       "      <td>88.9</td>\n",
       "      <td>CB</td>\n",
       "      <td>Senegal</td>\n",
       "      <td>88</td>\n",
       "      <td>...</td>\n",
       "      <td>15</td>\n",
       "      <td>87</td>\n",
       "      <td>88</td>\n",
       "      <td>24</td>\n",
       "      <td>49</td>\n",
       "      <td>33</td>\n",
       "      <td>80</td>\n",
       "      <td>91</td>\n",
       "      <td>88</td>\n",
       "      <td>87</td>\n",
       "    </tr>\n",
       "    <tr>\n",
       "      <th>...</th>\n",
       "      <td>...</td>\n",
       "      <td>...</td>\n",
       "      <td>...</td>\n",
       "      <td>...</td>\n",
       "      <td>...</td>\n",
       "      <td>...</td>\n",
       "      <td>...</td>\n",
       "      <td>...</td>\n",
       "      <td>...</td>\n",
       "      <td>...</td>\n",
       "      <td>...</td>\n",
       "      <td>...</td>\n",
       "      <td>...</td>\n",
       "      <td>...</td>\n",
       "      <td>...</td>\n",
       "      <td>...</td>\n",
       "      <td>...</td>\n",
       "      <td>...</td>\n",
       "      <td>...</td>\n",
       "      <td>...</td>\n",
       "      <td>...</td>\n",
       "    </tr>\n",
       "    <tr>\n",
       "      <th>17949</th>\n",
       "      <td>17949</td>\n",
       "      <td>R. McKenzie</td>\n",
       "      <td>Rory  McKenzie</td>\n",
       "      <td>10/7/1993</td>\n",
       "      <td>25</td>\n",
       "      <td>175.26</td>\n",
       "      <td>74.8</td>\n",
       "      <td>RM,CAM,CM</td>\n",
       "      <td>Scotland</td>\n",
       "      <td>67</td>\n",
       "      <td>...</td>\n",
       "      <td>54</td>\n",
       "      <td>69</td>\n",
       "      <td>41</td>\n",
       "      <td>60</td>\n",
       "      <td>64</td>\n",
       "      <td>63</td>\n",
       "      <td>56</td>\n",
       "      <td>40</td>\n",
       "      <td>20</td>\n",
       "      <td>18</td>\n",
       "    </tr>\n",
       "    <tr>\n",
       "      <th>17950</th>\n",
       "      <td>17950</td>\n",
       "      <td>M. Sipľak</td>\n",
       "      <td>Michal Sipľak</td>\n",
       "      <td>2/2/1996</td>\n",
       "      <td>23</td>\n",
       "      <td>182.88</td>\n",
       "      <td>79.8</td>\n",
       "      <td>LB</td>\n",
       "      <td>Slovakia</td>\n",
       "      <td>59</td>\n",
       "      <td>...</td>\n",
       "      <td>22</td>\n",
       "      <td>62</td>\n",
       "      <td>55</td>\n",
       "      <td>42</td>\n",
       "      <td>39</td>\n",
       "      <td>32</td>\n",
       "      <td>52</td>\n",
       "      <td>53</td>\n",
       "      <td>64</td>\n",
       "      <td>60</td>\n",
       "    </tr>\n",
       "    <tr>\n",
       "      <th>17951</th>\n",
       "      <td>17951</td>\n",
       "      <td>J. Bekkema</td>\n",
       "      <td>Jan Bekkema</td>\n",
       "      <td>4/9/1996</td>\n",
       "      <td>22</td>\n",
       "      <td>185.42</td>\n",
       "      <td>89.8</td>\n",
       "      <td>GK</td>\n",
       "      <td>Netherlands</td>\n",
       "      <td>59</td>\n",
       "      <td>...</td>\n",
       "      <td>9</td>\n",
       "      <td>27</td>\n",
       "      <td>10</td>\n",
       "      <td>5</td>\n",
       "      <td>25</td>\n",
       "      <td>16</td>\n",
       "      <td>47</td>\n",
       "      <td>9</td>\n",
       "      <td>12</td>\n",
       "      <td>13</td>\n",
       "    </tr>\n",
       "    <tr>\n",
       "      <th>17952</th>\n",
       "      <td>17952</td>\n",
       "      <td>A. Al Yami</td>\n",
       "      <td>Abdulrahman Al Yami</td>\n",
       "      <td>6/19/1997</td>\n",
       "      <td>21</td>\n",
       "      <td>175.26</td>\n",
       "      <td>64.9</td>\n",
       "      <td>ST,LM</td>\n",
       "      <td>Saudi Arabia</td>\n",
       "      <td>59</td>\n",
       "      <td>...</td>\n",
       "      <td>58</td>\n",
       "      <td>38</td>\n",
       "      <td>15</td>\n",
       "      <td>54</td>\n",
       "      <td>52</td>\n",
       "      <td>50</td>\n",
       "      <td>53</td>\n",
       "      <td>16</td>\n",
       "      <td>18</td>\n",
       "      <td>17</td>\n",
       "    </tr>\n",
       "    <tr>\n",
       "      <th>17953</th>\n",
       "      <td>17953</td>\n",
       "      <td>Júnior Brumado</td>\n",
       "      <td>José Francisco dos Santos Júnior</td>\n",
       "      <td>5/15/1999</td>\n",
       "      <td>19</td>\n",
       "      <td>190.50</td>\n",
       "      <td>79.8</td>\n",
       "      <td>ST</td>\n",
       "      <td>Brazil</td>\n",
       "      <td>59</td>\n",
       "      <td>...</td>\n",
       "      <td>53</td>\n",
       "      <td>67</td>\n",
       "      <td>20</td>\n",
       "      <td>53</td>\n",
       "      <td>49</td>\n",
       "      <td>52</td>\n",
       "      <td>45</td>\n",
       "      <td>23</td>\n",
       "      <td>31</td>\n",
       "      <td>21</td>\n",
       "    </tr>\n",
       "  </tbody>\n",
       "</table>\n",
       "<p>17954 rows × 44 columns</p>\n",
       "</div>"
      ],
      "text/plain": [
       "       Unnamed: 0            name                         full_name  \\\n",
       "0               0        L. Messi    Lionel Andrés Messi Cuccittini   \n",
       "1               1      C. Eriksen      Christian  Dannemann Eriksen   \n",
       "2               2        P. Pogba                        Paul Pogba   \n",
       "3               3      L. Insigne                   Lorenzo Insigne   \n",
       "4               4    K. Koulibaly                 Kalidou Koulibaly   \n",
       "...           ...             ...                               ...   \n",
       "17949       17949     R. McKenzie                    Rory  McKenzie   \n",
       "17950       17950       M. Sipľak                     Michal Sipľak   \n",
       "17951       17951      J. Bekkema                       Jan Bekkema   \n",
       "17952       17952      A. Al Yami               Abdulrahman Al Yami   \n",
       "17953       17953  Júnior Brumado  José Francisco dos Santos Júnior   \n",
       "\n",
       "      birth_date  age  height_cm  weight_kgs  positions   nationality  \\\n",
       "0      6/24/1987   31     170.18        72.1   CF,RW,ST     Argentina   \n",
       "1      2/14/1992   27     154.94        76.2  CAM,RM,CM       Denmark   \n",
       "2      3/15/1993   25     190.50        83.9     CM,CAM        France   \n",
       "3       6/4/1991   27     162.56        59.0      LW,ST         Italy   \n",
       "4      6/20/1991   27     187.96        88.9         CB       Senegal   \n",
       "...          ...  ...        ...         ...        ...           ...   \n",
       "17949  10/7/1993   25     175.26        74.8  RM,CAM,CM      Scotland   \n",
       "17950   2/2/1996   23     182.88        79.8         LB      Slovakia   \n",
       "17951   4/9/1996   22     185.42        89.8         GK   Netherlands   \n",
       "17952  6/19/1997   21     175.26        64.9      ST,LM  Saudi Arabia   \n",
       "17953  5/15/1999   19     190.50        79.8         ST        Brazil   \n",
       "\n",
       "       overall_rating  ...  long_shots aggression  interceptions  positioning  \\\n",
       "0                  94  ...          94         48             22           94   \n",
       "1                  88  ...          89         46             56           84   \n",
       "2                  88  ...          82         78             64           82   \n",
       "3                  88  ...          84         34             26           83   \n",
       "4                  88  ...          15         87             88           24   \n",
       "...               ...  ...         ...        ...            ...          ...   \n",
       "17949              67  ...          54         69             41           60   \n",
       "17950              59  ...          22         62             55           42   \n",
       "17951              59  ...           9         27             10            5   \n",
       "17952              59  ...          58         38             15           54   \n",
       "17953              59  ...          53         67             20           53   \n",
       "\n",
       "       vision  penalties  composure  marking  standing_tackle  sliding_tackle  \n",
       "0          94         75         96       33               28              26  \n",
       "1          91         67         88       59               57              22  \n",
       "2          88         82         87       63               67              67  \n",
       "3          87         61         83       51               24              22  \n",
       "4          49         33         80       91               88              87  \n",
       "...       ...        ...        ...      ...              ...             ...  \n",
       "17949      64         63         56       40               20              18  \n",
       "17950      39         32         52       53               64              60  \n",
       "17951      25         16         47        9               12              13  \n",
       "17952      52         50         53       16               18              17  \n",
       "17953      49         52         45       23               31              21  \n",
       "\n",
       "[17954 rows x 44 columns]"
      ]
     },
     "execution_count": 4,
     "metadata": {},
     "output_type": "execute_result"
    }
   ],
   "source": [
    "data.dropna(axis = 1)"
   ]
  },
  {
   "cell_type": "code",
   "execution_count": 5,
   "id": "83f8ff16-c4f7-47c9-bfe0-dfd9aa7fe50d",
   "metadata": {},
   "outputs": [
    {
     "name": "stdout",
     "output_type": "stream",
     "text": [
      "(17954, 44)\n"
     ]
    },
    {
     "data": {
      "text/html": [
       "<div>\n",
       "<style scoped>\n",
       "    .dataframe tbody tr th:only-of-type {\n",
       "        vertical-align: middle;\n",
       "    }\n",
       "\n",
       "    .dataframe tbody tr th {\n",
       "        vertical-align: top;\n",
       "    }\n",
       "\n",
       "    .dataframe thead th {\n",
       "        text-align: right;\n",
       "    }\n",
       "</style>\n",
       "<table border=\"1\" class=\"dataframe\">\n",
       "  <thead>\n",
       "    <tr style=\"text-align: right;\">\n",
       "      <th></th>\n",
       "      <th>Unnamed: 0</th>\n",
       "      <th>age</th>\n",
       "      <th>height_cm</th>\n",
       "      <th>weight_kgs</th>\n",
       "      <th>overall_rating</th>\n",
       "      <th>potential</th>\n",
       "      <th>international_reputation(1-5)</th>\n",
       "      <th>weak_foot(1-5)</th>\n",
       "      <th>skill_moves(1-5)</th>\n",
       "      <th>crossing</th>\n",
       "      <th>...</th>\n",
       "      <th>long_shots</th>\n",
       "      <th>aggression</th>\n",
       "      <th>interceptions</th>\n",
       "      <th>positioning</th>\n",
       "      <th>vision</th>\n",
       "      <th>penalties</th>\n",
       "      <th>composure</th>\n",
       "      <th>marking</th>\n",
       "      <th>standing_tackle</th>\n",
       "      <th>sliding_tackle</th>\n",
       "    </tr>\n",
       "  </thead>\n",
       "  <tbody>\n",
       "    <tr>\n",
       "      <th>count</th>\n",
       "      <td>17954.000000</td>\n",
       "      <td>17954.000000</td>\n",
       "      <td>17954.000000</td>\n",
       "      <td>17954.000000</td>\n",
       "      <td>17954.000000</td>\n",
       "      <td>17954.000000</td>\n",
       "      <td>17954.000000</td>\n",
       "      <td>17954.000000</td>\n",
       "      <td>17954.000000</td>\n",
       "      <td>17954.000000</td>\n",
       "      <td>...</td>\n",
       "      <td>17954.000000</td>\n",
       "      <td>17954.000000</td>\n",
       "      <td>17954.000000</td>\n",
       "      <td>17954.000000</td>\n",
       "      <td>17954.000000</td>\n",
       "      <td>17954.000000</td>\n",
       "      <td>17954.000000</td>\n",
       "      <td>17954.000000</td>\n",
       "      <td>17954.000000</td>\n",
       "      <td>17954.000000</td>\n",
       "    </tr>\n",
       "    <tr>\n",
       "      <th>mean</th>\n",
       "      <td>8976.500000</td>\n",
       "      <td>25.565445</td>\n",
       "      <td>174.946921</td>\n",
       "      <td>75.301047</td>\n",
       "      <td>66.240169</td>\n",
       "      <td>71.430935</td>\n",
       "      <td>1.111674</td>\n",
       "      <td>2.945695</td>\n",
       "      <td>2.361034</td>\n",
       "      <td>49.697672</td>\n",
       "      <td>...</td>\n",
       "      <td>46.852456</td>\n",
       "      <td>55.816531</td>\n",
       "      <td>46.657959</td>\n",
       "      <td>49.857302</td>\n",
       "      <td>53.406260</td>\n",
       "      <td>48.357302</td>\n",
       "      <td>58.680183</td>\n",
       "      <td>47.162861</td>\n",
       "      <td>47.733040</td>\n",
       "      <td>45.705915</td>\n",
       "    </tr>\n",
       "    <tr>\n",
       "      <th>std</th>\n",
       "      <td>5183.017702</td>\n",
       "      <td>4.705708</td>\n",
       "      <td>14.029449</td>\n",
       "      <td>7.083684</td>\n",
       "      <td>6.963730</td>\n",
       "      <td>6.131339</td>\n",
       "      <td>0.392168</td>\n",
       "      <td>0.663691</td>\n",
       "      <td>0.763223</td>\n",
       "      <td>18.483310</td>\n",
       "      <td>...</td>\n",
       "      <td>19.429337</td>\n",
       "      <td>17.394047</td>\n",
       "      <td>20.754649</td>\n",
       "      <td>19.694311</td>\n",
       "      <td>14.156038</td>\n",
       "      <td>15.810844</td>\n",
       "      <td>11.625541</td>\n",
       "      <td>20.037346</td>\n",
       "      <td>21.674973</td>\n",
       "      <td>21.285812</td>\n",
       "    </tr>\n",
       "    <tr>\n",
       "      <th>min</th>\n",
       "      <td>0.000000</td>\n",
       "      <td>17.000000</td>\n",
       "      <td>152.400000</td>\n",
       "      <td>49.900000</td>\n",
       "      <td>47.000000</td>\n",
       "      <td>48.000000</td>\n",
       "      <td>1.000000</td>\n",
       "      <td>1.000000</td>\n",
       "      <td>1.000000</td>\n",
       "      <td>5.000000</td>\n",
       "      <td>...</td>\n",
       "      <td>3.000000</td>\n",
       "      <td>11.000000</td>\n",
       "      <td>3.000000</td>\n",
       "      <td>2.000000</td>\n",
       "      <td>10.000000</td>\n",
       "      <td>5.000000</td>\n",
       "      <td>12.000000</td>\n",
       "      <td>3.000000</td>\n",
       "      <td>2.000000</td>\n",
       "      <td>3.000000</td>\n",
       "    </tr>\n",
       "    <tr>\n",
       "      <th>25%</th>\n",
       "      <td>4488.250000</td>\n",
       "      <td>22.000000</td>\n",
       "      <td>154.940000</td>\n",
       "      <td>69.900000</td>\n",
       "      <td>62.000000</td>\n",
       "      <td>67.000000</td>\n",
       "      <td>1.000000</td>\n",
       "      <td>3.000000</td>\n",
       "      <td>2.000000</td>\n",
       "      <td>38.000000</td>\n",
       "      <td>...</td>\n",
       "      <td>32.000000</td>\n",
       "      <td>44.000000</td>\n",
       "      <td>26.000000</td>\n",
       "      <td>38.000000</td>\n",
       "      <td>44.000000</td>\n",
       "      <td>38.000000</td>\n",
       "      <td>51.000000</td>\n",
       "      <td>30.000000</td>\n",
       "      <td>27.000000</td>\n",
       "      <td>24.000000</td>\n",
       "    </tr>\n",
       "    <tr>\n",
       "      <th>50%</th>\n",
       "      <td>8976.500000</td>\n",
       "      <td>25.000000</td>\n",
       "      <td>175.260000</td>\n",
       "      <td>74.800000</td>\n",
       "      <td>66.000000</td>\n",
       "      <td>71.000000</td>\n",
       "      <td>1.000000</td>\n",
       "      <td>3.000000</td>\n",
       "      <td>2.000000</td>\n",
       "      <td>54.000000</td>\n",
       "      <td>...</td>\n",
       "      <td>51.000000</td>\n",
       "      <td>59.000000</td>\n",
       "      <td>52.000000</td>\n",
       "      <td>55.000000</td>\n",
       "      <td>55.000000</td>\n",
       "      <td>49.000000</td>\n",
       "      <td>60.000000</td>\n",
       "      <td>52.500000</td>\n",
       "      <td>55.000000</td>\n",
       "      <td>52.000000</td>\n",
       "    </tr>\n",
       "    <tr>\n",
       "      <th>75%</th>\n",
       "      <td>13464.750000</td>\n",
       "      <td>29.000000</td>\n",
       "      <td>185.420000</td>\n",
       "      <td>79.800000</td>\n",
       "      <td>71.000000</td>\n",
       "      <td>75.000000</td>\n",
       "      <td>1.000000</td>\n",
       "      <td>3.000000</td>\n",
       "      <td>3.000000</td>\n",
       "      <td>64.000000</td>\n",
       "      <td>...</td>\n",
       "      <td>62.000000</td>\n",
       "      <td>69.000000</td>\n",
       "      <td>64.000000</td>\n",
       "      <td>64.000000</td>\n",
       "      <td>64.000000</td>\n",
       "      <td>60.000000</td>\n",
       "      <td>67.000000</td>\n",
       "      <td>64.000000</td>\n",
       "      <td>66.000000</td>\n",
       "      <td>64.000000</td>\n",
       "    </tr>\n",
       "    <tr>\n",
       "      <th>max</th>\n",
       "      <td>17953.000000</td>\n",
       "      <td>46.000000</td>\n",
       "      <td>205.740000</td>\n",
       "      <td>110.200000</td>\n",
       "      <td>94.000000</td>\n",
       "      <td>95.000000</td>\n",
       "      <td>5.000000</td>\n",
       "      <td>5.000000</td>\n",
       "      <td>5.000000</td>\n",
       "      <td>93.000000</td>\n",
       "      <td>...</td>\n",
       "      <td>94.000000</td>\n",
       "      <td>95.000000</td>\n",
       "      <td>92.000000</td>\n",
       "      <td>95.000000</td>\n",
       "      <td>94.000000</td>\n",
       "      <td>92.000000</td>\n",
       "      <td>96.000000</td>\n",
       "      <td>94.000000</td>\n",
       "      <td>93.000000</td>\n",
       "      <td>90.000000</td>\n",
       "    </tr>\n",
       "  </tbody>\n",
       "</table>\n",
       "<p>8 rows × 38 columns</p>\n",
       "</div>"
      ],
      "text/plain": [
       "         Unnamed: 0           age     height_cm    weight_kgs  overall_rating  \\\n",
       "count  17954.000000  17954.000000  17954.000000  17954.000000    17954.000000   \n",
       "mean    8976.500000     25.565445    174.946921     75.301047       66.240169   \n",
       "std     5183.017702      4.705708     14.029449      7.083684        6.963730   \n",
       "min        0.000000     17.000000    152.400000     49.900000       47.000000   \n",
       "25%     4488.250000     22.000000    154.940000     69.900000       62.000000   \n",
       "50%     8976.500000     25.000000    175.260000     74.800000       66.000000   \n",
       "75%    13464.750000     29.000000    185.420000     79.800000       71.000000   \n",
       "max    17953.000000     46.000000    205.740000    110.200000       94.000000   \n",
       "\n",
       "          potential  international_reputation(1-5)  weak_foot(1-5)  \\\n",
       "count  17954.000000                   17954.000000    17954.000000   \n",
       "mean      71.430935                       1.111674        2.945695   \n",
       "std        6.131339                       0.392168        0.663691   \n",
       "min       48.000000                       1.000000        1.000000   \n",
       "25%       67.000000                       1.000000        3.000000   \n",
       "50%       71.000000                       1.000000        3.000000   \n",
       "75%       75.000000                       1.000000        3.000000   \n",
       "max       95.000000                       5.000000        5.000000   \n",
       "\n",
       "       skill_moves(1-5)      crossing  ...    long_shots    aggression  \\\n",
       "count      17954.000000  17954.000000  ...  17954.000000  17954.000000   \n",
       "mean           2.361034     49.697672  ...     46.852456     55.816531   \n",
       "std            0.763223     18.483310  ...     19.429337     17.394047   \n",
       "min            1.000000      5.000000  ...      3.000000     11.000000   \n",
       "25%            2.000000     38.000000  ...     32.000000     44.000000   \n",
       "50%            2.000000     54.000000  ...     51.000000     59.000000   \n",
       "75%            3.000000     64.000000  ...     62.000000     69.000000   \n",
       "max            5.000000     93.000000  ...     94.000000     95.000000   \n",
       "\n",
       "       interceptions   positioning        vision     penalties     composure  \\\n",
       "count   17954.000000  17954.000000  17954.000000  17954.000000  17954.000000   \n",
       "mean       46.657959     49.857302     53.406260     48.357302     58.680183   \n",
       "std        20.754649     19.694311     14.156038     15.810844     11.625541   \n",
       "min         3.000000      2.000000     10.000000      5.000000     12.000000   \n",
       "25%        26.000000     38.000000     44.000000     38.000000     51.000000   \n",
       "50%        52.000000     55.000000     55.000000     49.000000     60.000000   \n",
       "75%        64.000000     64.000000     64.000000     60.000000     67.000000   \n",
       "max        92.000000     95.000000     94.000000     92.000000     96.000000   \n",
       "\n",
       "            marking  standing_tackle  sliding_tackle  \n",
       "count  17954.000000     17954.000000    17954.000000  \n",
       "mean      47.162861        47.733040       45.705915  \n",
       "std       20.037346        21.674973       21.285812  \n",
       "min        3.000000         2.000000        3.000000  \n",
       "25%       30.000000        27.000000       24.000000  \n",
       "50%       52.500000        55.000000       52.000000  \n",
       "75%       64.000000        66.000000       64.000000  \n",
       "max       94.000000        93.000000       90.000000  \n",
       "\n",
       "[8 rows x 38 columns]"
      ]
     },
     "execution_count": 5,
     "metadata": {},
     "output_type": "execute_result"
    }
   ],
   "source": [
    "newData = data.drop(['value_euro', 'wage_euro'], axis = 1)\n",
    "print(newData.shape)\n",
    "newData.describe()"
   ]
  },
  {
   "cell_type": "code",
   "execution_count": 6,
   "id": "17f8779c-968e-469e-a64c-e4ceacdb7b53",
   "metadata": {},
   "outputs": [
    {
     "data": {
      "text/plain": [
       "Index(['Unnamed: 0', 'name', 'full_name', 'birth_date', 'age', 'height_cm',\n",
       "       'weight_kgs', 'positions', 'nationality', 'overall_rating', 'potential',\n",
       "       'preferred_foot', 'international_reputation(1-5)', 'weak_foot(1-5)',\n",
       "       'skill_moves(1-5)', 'crossing', 'finishing', 'heading_accuracy',\n",
       "       'short_passing', 'volleys', 'dribbling', 'curve', 'freekick_accuracy',\n",
       "       'long_passing', 'ball_control', 'acceleration', 'sprint_speed',\n",
       "       'agility', 'reactions', 'balance', 'shot_power', 'jumping', 'stamina',\n",
       "       'strength', 'long_shots', 'aggression', 'interceptions', 'positioning',\n",
       "       'vision', 'penalties', 'composure', 'marking', 'standing_tackle',\n",
       "       'sliding_tackle'],\n",
       "      dtype='object')"
      ]
     },
     "execution_count": 6,
     "metadata": {},
     "output_type": "execute_result"
    }
   ],
   "source": [
    "newData.columns"
   ]
  },
  {
   "cell_type": "code",
   "execution_count": 7,
   "id": "e37bd623-30fd-4b97-9e49-1bad2e26120d",
   "metadata": {},
   "outputs": [],
   "source": [
    "foot = newData.rename(columns = {'international_reputation(1-5)': 'international', 'weak_foot(1-5)' : 'weak_foot', 'skill_moves(1-5)' : 'skill'})"
   ]
  },
  {
   "cell_type": "code",
   "execution_count": 8,
   "id": "c409e178-35f4-4324-81f5-170f6289f97a",
   "metadata": {},
   "outputs": [],
   "source": [
    "foot.columns\n",
    "foot.to_csv('cleaned.csv')"
   ]
  },
  {
   "cell_type": "code",
   "execution_count": 9,
   "id": "8de786f9-8757-49b2-8c3a-4e7913cf3159",
   "metadata": {},
   "outputs": [
    {
     "data": {
      "image/png": "[encoded data removed]",
      "text/plain": [
       "<Figure size 640x480 with 1 Axes>"
      ]
     },
     "metadata": {},
     "output_type": "display_data"
    }
   ],
   "source": [
    "sample = foot['preferred_foot'].value_counts()\n",
    "plt.title(\"Used feet\")\n",
    "plt.xlabel(\"Foot\")\n",
    "plt.ylabel(\"Number\")\n",
    "plt.bar(['Right', 'Left'], sample, color = ['blue', 'green'])\n",
    "plt.show()"
   ]
  },
  {
   "cell_type": "code",
   "execution_count": 10,
   "id": "11720318-4208-4764-bf7f-4076741dd420",
   "metadata": {},
   "outputs": [
    {
     "name": "stdout",
     "output_type": "stream",
     "text": [
      "preferred_foot\n",
      "Right    13781\n",
      "Left      4173\n",
      "Name: count, dtype: int64\n"
     ]
    }
   ],
   "source": [
    "mguu = foot['preferred_foot'].value_counts()\n",
    "print(mguu)"
   ]
  },
  {
   "cell_type": "code",
   "execution_count": 11,
   "id": "18a01739-d710-4d3e-b079-398138ea0949",
   "metadata": {},
   "outputs": [
    {
     "name": "stdout",
     "output_type": "stream",
     "text": [
      "international\n",
      "1    16370\n",
      "2     1226\n",
      "3      301\n",
      "4       51\n",
      "5        6\n",
      "Name: count, dtype: int64\n"
     ]
    },
    {
     "data": {
      "text/plain": [
       "<BarContainer object of 5 artists>"
      ]
     },
     "execution_count": 11,
     "metadata": {},
     "output_type": "execute_result"
    },
    {
     "data": {
      "image/png": "[encoded data removed]",
      "text/plain": [
       "<Figure size 640x480 with 1 Axes>"
      ]
     },
     "metadata": {},
     "output_type": "display_data"
    }
   ],
   "source": [
    "inter = foot['international'].value_counts()\n",
    "print(inter)\n",
    "plt.xlabel(\"Num\")\n",
    "plt.ylabel(\"Rep\")\n",
    "plt.bar(['1', '2', '3', '4', '5'], inter, color = ['green', 'yellow', 'cyan', 'blue', 'black'])"
   ]
  },
  {
   "cell_type": "code",
   "execution_count": 12,
   "id": "049dcf89-32e5-4035-b8ca-c0fabd051292",
   "metadata": {},
   "outputs": [
    {
     "name": "stdout",
     "output_type": "stream",
     "text": [
      "positions\n",
      "CB              2243\n",
      "GK              2065\n",
      "ST              1747\n",
      "CM               764\n",
      "CDM,CM           709\n",
      "                ... \n",
      "LB,LM,CB           1\n",
      "CF,CM,ST           1\n",
      "CB,ST              1\n",
      "RB,ST              1\n",
      "CAM,CM,RW,RM       1\n",
      "Name: count, Length: 890, dtype: int64\n"
     ]
    }
   ],
   "source": [
    "pos = foot['positions'].value_counts()\n",
    "print(pos)"
   ]
  },
  {
   "cell_type": "code",
   "execution_count": 13,
   "id": "c1736941-3653-40e3-b909-0680d91fddcf",
   "metadata": {},
   "outputs": [
    {
     "name": "stdout",
     "output_type": "stream",
     "text": [
      "age\n",
      "22    1360\n",
      "21    1347\n",
      "27    1318\n",
      "23    1315\n",
      "25    1304\n",
      "24    1303\n",
      "26    1248\n",
      "20    1145\n",
      "28    1118\n",
      "29     979\n",
      "19     957\n",
      "30     893\n",
      "31     845\n",
      "32     628\n",
      "18     509\n",
      "33     465\n",
      "35     354\n",
      "34     322\n",
      "36     165\n",
      "17     163\n",
      "37      99\n",
      "38      56\n",
      "39      31\n",
      "40      15\n",
      "41      10\n",
      "42       2\n",
      "46       1\n",
      "45       1\n",
      "44       1\n",
      "Name: count, dtype: int64\n"
     ]
    }
   ],
   "source": [
    "age = foot['age'].value_counts()\n",
    "print(age)"
   ]
  },
  {
   "cell_type": "markdown",
   "id": "ec03a1fd-8fbd-407c-8a76-5be50e73b3b7",
   "metadata": {},
   "source": [
    "# ML Model"
   ]
  },
  {
   "cell_type": "code",
   "execution_count": 14,
   "id": "8b3cf7a5-fbd1-47cb-9cfa-017fe73defd4",
   "metadata": {},
   "outputs": [
    {
     "data": {
      "text/plain": [
       "<bound method NDFrame.describe of        age  potential  weak_foot  skill  crossing  finishing  \\\n",
       "0       31         94          4      4        86         95   \n",
       "1       27         89          5      4        88         81   \n",
       "2       25         91          4      5        80         75   \n",
       "3       27         88          4      4        86         77   \n",
       "4       27         91          3      2        30         22   \n",
       "...    ...        ...        ...    ...       ...        ...   \n",
       "17949   25         70          3      3        57         61   \n",
       "17950   23         67          3      2        50         19   \n",
       "17951   22         67          1      1        11          9   \n",
       "17952   21         71          4      3        42         60   \n",
       "17953   19         75          4      2        32         58   \n",
       "\n",
       "       heading_accuracy  short_passing  volleys  dribbling  ...  long_shots  \\\n",
       "0                    70             92       86         97  ...          94   \n",
       "1                    52             91       80         84  ...          89   \n",
       "2                    75             86       85         87  ...          82   \n",
       "3                    56             85       74         90  ...          84   \n",
       "4                    83             68       14         69  ...          15   \n",
       "...                 ...            ...      ...        ...  ...         ...   \n",
       "17949                60             66       37         64  ...          54   \n",
       "17950                53             55       31         52  ...          22   \n",
       "17951                13             26        9         12  ...           9   \n",
       "17952                55             49       49         57  ...          58   \n",
       "17953                58             47       39         58  ...          53   \n",
       "\n",
       "       aggression  interceptions  positioning  vision  penalties  composure  \\\n",
       "0              48             22           94      94         75         96   \n",
       "1              46             56           84      91         67         88   \n",
       "2              78             64           82      88         82         87   \n",
       "3              34             26           83      87         61         83   \n",
       "4              87             88           24      49         33         80   \n",
       "...           ...            ...          ...     ...        ...        ...   \n",
       "17949          69             41           60      64         63         56   \n",
       "17950          62             55           42      39         32         52   \n",
       "17951          27             10            5      25         16         47   \n",
       "17952          38             15           54      52         50         53   \n",
       "17953          67             20           53      49         52         45   \n",
       "\n",
       "       marking  standing_tackle  sliding_tackle  \n",
       "0           33               28              26  \n",
       "1           59               57              22  \n",
       "2           63               67              67  \n",
       "3           51               24              22  \n",
       "4           91               88              87  \n",
       "...        ...              ...             ...  \n",
       "17949       40               20              18  \n",
       "17950       53               64              60  \n",
       "17951        9               12              13  \n",
       "17952       16               18              17  \n",
       "17953       23               31              21  \n",
       "\n",
       "[17954 rows x 33 columns]>"
      ]
     },
     "execution_count": 14,
     "metadata": {},
     "output_type": "execute_result"
    }
   ],
   "source": [
    "features = ['age', 'potential', 'weak_foot', 'skill', 'crossing', 'finishing', 'heading_accuracy', 'short_passing', 'volleys', 'dribbling', 'curve', 'freekick_accuracy', 'long_passing', 'ball_control', 'acceleration', 'sprint_speed', 'agility', 'reactions', 'balance', 'shot_power', 'jumping', 'stamina', 'strength', 'long_shots', 'aggression', 'interceptions', 'positioning', 'vision', 'penalties', 'composure', 'marking', 'standing_tackle', 'sliding_tackle']\n",
    "X = foot[features]\n",
    "y = foot[['overall_rating']]\n",
    "X.describe"
   ]
  },
  {
   "cell_type": "markdown",
   "id": "b3629711-9111-4c43-9e78-ceb10e3f0ae5",
   "metadata": {},
   "source": [
    "# Train, Test, Split"
   ]
  },
  {
   "cell_type": "code",
   "execution_count": 15,
   "id": "53f8c944-8c27-4d91-8fcb-589d21667cec",
   "metadata": {},
   "outputs": [],
   "source": [
    "from sklearn.model_selection import train_test_split\n",
    "from sklearn.metrics import mean_absolute_error\n",
    "\n",
    "X_train, X_test, y_train, y_test = train_test_split(X, y, test_size=0.2, random_state=42)"
   ]
  },
  {
   "cell_type": "markdown",
   "id": "9f06e0b1-4895-429e-913c-41961692f6a3",
   "metadata": {},
   "source": [
    "# Linear Regression Model"
   ]
  },
  {
   "cell_type": "code",
   "execution_count": 16,
   "id": "ec9f705d-cf40-4a56-97a1-8dc07309f005",
   "metadata": {},
   "outputs": [],
   "source": [
    "from sklearn.linear_model import LinearRegression"
   ]
  },
  {
   "cell_type": "code",
   "execution_count": 17,
   "id": "4eb3c0ef-9e4e-4554-a0c1-04200e864246",
   "metadata": {},
   "outputs": [
    {
     "name": "stdout",
     "output_type": "stream",
     "text": [
      "[[64.92008367]\n",
      " [55.90021608]\n",
      " [63.55721398]\n",
      " ...\n",
      " [63.04066039]\n",
      " [65.51070498]\n",
      " [62.11043815]]\n"
     ]
    }
   ],
   "source": [
    "lr_model = LinearRegression()\n",
    "lr_model.fit(X_train, y_train)\n",
    "lr_pred_test = lr_model.predict(X_test)\n",
    "print(lr_pred_test)"
   ]
  },
  {
   "cell_type": "code",
   "execution_count": 18,
   "id": "a85fe7bc-2d47-42cd-91bb-750d94c51012",
   "metadata": {},
   "outputs": [
    {
     "name": "stdout",
     "output_type": "stream",
     "text": [
      "[[64.92008367]\n",
      " [55.90021608]\n",
      " [63.55721398]\n",
      " ...\n",
      " [63.04066039]\n",
      " [65.51070498]\n",
      " [62.11043815]]\n"
     ]
    }
   ],
   "source": [
    "prediction = lr_model.predict(X_test)\n",
    "print(prediction)"
   ]
  },
  {
   "cell_type": "code",
   "execution_count": 19,
   "id": "a28b461f-6544-4046-bb1e-4f4dc57eb323",
   "metadata": {},
   "outputs": [
    {
     "name": "stdout",
     "output_type": "stream",
     "text": [
      "[[95.92467299]]\n"
     ]
    },
    {
     "name": "stderr",
     "output_type": "stream",
     "text": [
      "C:\\Users\\Home\\AppData\\Local\\Programs\\Python\\Python312\\Lib\\site-packages\\sklearn\\base.py:493: UserWarning: X does not have valid feature names, but LinearRegression was fitted with feature names\n",
      "  warnings.warn(\n"
     ]
    }
   ],
   "source": [
    "pred = np.array([31, 96, 4, 4, 86, 95, 70, 92, 86, 97, 93, 94, 89, 96, 91, 86, 93, 95, 95, 85, 68, 72, 88, 94, 48, 22, 94, 94, 75, 96, 33, 28, 26]).reshape(1, -1)\n",
    "pred2 = lr_model.predict(pred)\n",
    "print(pred2)"
   ]
  },
  {
   "cell_type": "markdown",
   "id": "ef86fb1c-7bcd-4876-9d05-a918a1b6e271",
   "metadata": {},
   "source": [
    "# Metrics(R^, MAE, MSE)"
   ]
  },
  {
   "cell_type": "code",
   "execution_count": 20,
   "id": "335b0727-c5b3-4f99-b202-157c532f54c1",
   "metadata": {},
   "outputs": [
    {
     "name": "stdout",
     "output_type": "stream",
     "text": [
      "MAE: 1.6127534147223717\n",
      "MSE: 4.2786171067411285\n",
      "RMSE: 2.0684818362125226\n",
      "R² Score: 0.9143883895814305\n"
     ]
    }
   ],
   "source": [
    "from sklearn.metrics import mean_absolute_error, mean_squared_error, r2_score\n",
    "\n",
    "mae = mean_absolute_error(y_test, prediction)\n",
    "mse = mean_squared_error(y_test, prediction)\n",
    "rmse = np.sqrt(mse)\n",
    "r2 = r2_score(y_test, prediction)\n",
    "\n",
    "print(f\"MAE: {mae}\")\n",
    "print(f\"MSE: {mse}\")\n",
    "print(f\"RMSE: {rmse}\")\n",
    "print(f\"R² Score: {r2}\")\n"
   ]
  },
  {
   "cell_type": "markdown",
   "id": "7eabb9d9-a679-4180-a028-2c84b870fb21",
   "metadata": {},
   "source": [
    "# Random Forest Model"
   ]
  },
  {
   "cell_type": "code",
   "execution_count": 21,
   "id": "559315bd-cade-466e-a2a4-568f6352f662",
   "metadata": {},
   "outputs": [
    {
     "name": "stdout",
     "output_type": "stream",
     "text": [
      "Random Forest MAE: 0.782006504146211\n"
     ]
    }
   ],
   "source": [
    "from sklearn.ensemble import RandomForestRegressor\n",
    "\n",
    "rf_model = RandomForestRegressor(n_estimators=200, max_depth=15, min_samples_split=5, random_state=42)\n",
    "rf_model.fit(X_train, y_train.values.ravel())\n",
    "rf_pred_test = rf_model.predict(X_test)\n",
    "\n",
    "rf_mae = mean_absolute_error(y_test, rf_pred_test)\n",
    "print(f\"Random Forest MAE: {rf_mae}\")"
   ]
  },
  {
   "cell_type": "code",
   "execution_count": 22,
   "id": "f7f0c4d4-cc2a-4cfa-89ac-001d39ebc305",
   "metadata": {},
   "outputs": [
    {
     "name": "stderr",
     "output_type": "stream",
     "text": [
      "C:\\Users\\Home\\AppData\\Local\\Temp\\ipykernel_4804\\419217882.py:8: FutureWarning: \n",
      "\n",
      "Passing `palette` without assigning `hue` is deprecated and will be removed in v0.14.0. Assign the `y` variable to `hue` and set `legend=False` for the same effect.\n",
      "\n",
      "  sns.barplot(x=feature_importance['Importance'], y=feature_importance['Feature'], palette='viridis')\n"
     ]
    },
    {
     "data": {
      "image/png": "[encoded data removed]",
      "text/plain": [
       "<Figure size 1000x600 with 1 Axes>"
      ]
     },
     "metadata": {},
     "output_type": "display_data"
    }
   ],
   "source": [
    "import seaborn as sns\n",
    "\n",
    "importances = rf_model.feature_importances_\n",
    "feature_importance = pd.DataFrame({'Feature': features, 'Importance': importances})\n",
    "feature_importance = feature_importance.sort_values(by='Importance', ascending=False)\n",
    "\n",
    "plt.figure(figsize=(10, 6))\n",
    "sns.barplot(x=feature_importance['Importance'], y=feature_importance['Feature'], palette='viridis')\n",
    "plt.title(\"Feature Importance\")\n",
    "plt.show()\n"
   ]
  },
  {
   "cell_type": "markdown",
   "id": "b2090a80-1e67-4a4f-92f2-4afc25310e70",
   "metadata": {},
   "source": [
    "# Respective MAEs"
   ]
  },
  {
   "cell_type": "code",
   "execution_count": 23,
   "id": "3b9c33a0-6675-4ca3-a445-071344e2e799",
   "metadata": {},
   "outputs": [
    {
     "name": "stdout",
     "output_type": "stream",
     "text": [
      "Linear Regression Test MAE: 1.6127534147223717\n",
      "Random Forest Test MAE: 0.782006504146211\n"
     ]
    }
   ],
   "source": [
    "lr_mae_test = mean_absolute_error(y_test, lr_pred_test)\n",
    "rf_mae_test = mean_absolute_error(y_test, rf_pred_test)\n",
    "\n",
    "print(f\"Linear Regression Test MAE: {lr_mae_test}\")\n",
    "print(f\"Random Forest Test MAE: {rf_mae_test}\")"
   ]
  },
  {
   "cell_type": "code",
   "execution_count": 24,
   "id": "5778895b-6d07-4536-a9d2-073da783fcfa",
   "metadata": {},
   "outputs": [
    {
     "ename": "KeyboardInterrupt",
     "evalue": "",
     "output_type": "error",
     "traceback": [
      "\u001b[1;31m---------------------------------------------------------------------------\u001b[0m",
      "\u001b[1;31mKeyboardInterrupt\u001b[0m                         Traceback (most recent call last)",
      "Cell \u001b[1;32mIn[24], line 12\u001b[0m\n\u001b[0;32m     10\u001b[0m rf \u001b[38;5;241m=\u001b[39m RandomForestRegressor(random_state\u001b[38;5;241m=\u001b[39m\u001b[38;5;241m42\u001b[39m)\n\u001b[0;32m     11\u001b[0m grid_search \u001b[38;5;241m=\u001b[39m GridSearchCV(rf, param_grid, cv\u001b[38;5;241m=\u001b[39m\u001b[38;5;241m5\u001b[39m, scoring\u001b[38;5;241m=\u001b[39m\u001b[38;5;124m'\u001b[39m\u001b[38;5;124mneg_mean_absolute_error\u001b[39m\u001b[38;5;124m'\u001b[39m, n_jobs\u001b[38;5;241m=\u001b[39m\u001b[38;5;241m-\u001b[39m\u001b[38;5;241m1\u001b[39m)\n\u001b[1;32m---> 12\u001b[0m \u001b[43mgrid_search\u001b[49m\u001b[38;5;241;43m.\u001b[39;49m\u001b[43mfit\u001b[49m\u001b[43m(\u001b[49m\u001b[43mX_train\u001b[49m\u001b[43m,\u001b[49m\u001b[43m \u001b[49m\u001b[43my_train\u001b[49m\u001b[38;5;241;43m.\u001b[39;49m\u001b[43mvalues\u001b[49m\u001b[38;5;241;43m.\u001b[39;49m\u001b[43mravel\u001b[49m\u001b[43m(\u001b[49m\u001b[43m)\u001b[49m\u001b[43m)\u001b[49m\n\u001b[0;32m     14\u001b[0m \u001b[38;5;28mprint\u001b[39m(\u001b[38;5;124m\"\u001b[39m\u001b[38;5;124mBest Parameters:\u001b[39m\u001b[38;5;124m\"\u001b[39m, grid_search\u001b[38;5;241m.\u001b[39mbest_params_)\n\u001b[0;32m     15\u001b[0m best_rf_model \u001b[38;5;241m=\u001b[39m grid_search\u001b[38;5;241m.\u001b[39mbest_estimator_\n",
      "File \u001b[1;32m~\\AppData\\Local\\Programs\\Python\\Python312\\Lib\\site-packages\\sklearn\\base.py:1474\u001b[0m, in \u001b[0;36m_fit_context.<locals>.decorator.<locals>.wrapper\u001b[1;34m(estimator, *args, **kwargs)\u001b[0m\n\u001b[0;32m   1467\u001b[0m     estimator\u001b[38;5;241m.\u001b[39m_validate_params()\n\u001b[0;32m   1469\u001b[0m \u001b[38;5;28;01mwith\u001b[39;00m config_context(\n\u001b[0;32m   1470\u001b[0m     skip_parameter_validation\u001b[38;5;241m=\u001b[39m(\n\u001b[0;32m   1471\u001b[0m         prefer_skip_nested_validation \u001b[38;5;129;01mor\u001b[39;00m global_skip_validation\n\u001b[0;32m   1472\u001b[0m     )\n\u001b[0;32m   1473\u001b[0m ):\n\u001b[1;32m-> 1474\u001b[0m     \u001b[38;5;28;01mreturn\u001b[39;00m \u001b[43mfit_method\u001b[49m\u001b[43m(\u001b[49m\u001b[43mestimator\u001b[49m\u001b[43m,\u001b[49m\u001b[43m \u001b[49m\u001b[38;5;241;43m*\u001b[39;49m\u001b[43margs\u001b[49m\u001b[43m,\u001b[49m\u001b[43m \u001b[49m\u001b[38;5;241;43m*\u001b[39;49m\u001b[38;5;241;43m*\u001b[39;49m\u001b[43mkwargs\u001b[49m\u001b[43m)\u001b[49m\n",
      "File \u001b[1;32m~\\AppData\\Local\\Programs\\Python\\Python312\\Lib\\site-packages\\sklearn\\model_selection\\_search.py:970\u001b[0m, in \u001b[0;36mBaseSearchCV.fit\u001b[1;34m(self, X, y, **params)\u001b[0m\n\u001b[0;32m    964\u001b[0m     results \u001b[38;5;241m=\u001b[39m \u001b[38;5;28mself\u001b[39m\u001b[38;5;241m.\u001b[39m_format_results(\n\u001b[0;32m    965\u001b[0m         all_candidate_params, n_splits, all_out, all_more_results\n\u001b[0;32m    966\u001b[0m     )\n\u001b[0;32m    968\u001b[0m     \u001b[38;5;28;01mreturn\u001b[39;00m results\n\u001b[1;32m--> 970\u001b[0m \u001b[38;5;28;43mself\u001b[39;49m\u001b[38;5;241;43m.\u001b[39;49m\u001b[43m_run_search\u001b[49m\u001b[43m(\u001b[49m\u001b[43mevaluate_candidates\u001b[49m\u001b[43m)\u001b[49m\n\u001b[0;32m    972\u001b[0m \u001b[38;5;66;03m# multimetric is determined here because in the case of a callable\u001b[39;00m\n\u001b[0;32m    973\u001b[0m \u001b[38;5;66;03m# self.scoring the return type is only known after calling\u001b[39;00m\n\u001b[0;32m    974\u001b[0m first_test_score \u001b[38;5;241m=\u001b[39m all_out[\u001b[38;5;241m0\u001b[39m][\u001b[38;5;124m\"\u001b[39m\u001b[38;5;124mtest_scores\u001b[39m\u001b[38;5;124m\"\u001b[39m]\n",
      "File \u001b[1;32m~\\AppData\\Local\\Programs\\Python\\Python312\\Lib\\site-packages\\sklearn\\model_selection\\_search.py:1527\u001b[0m, in \u001b[0;36mGridSearchCV._run_search\u001b[1;34m(self, evaluate_candidates)\u001b[0m\n\u001b[0;32m   1525\u001b[0m \u001b[38;5;28;01mdef\u001b[39;00m \u001b[38;5;21m_run_search\u001b[39m(\u001b[38;5;28mself\u001b[39m, evaluate_candidates):\n\u001b[0;32m   1526\u001b[0m \u001b[38;5;250m    \u001b[39m\u001b[38;5;124;03m\"\"\"Search all candidates in param_grid\"\"\"\u001b[39;00m\n\u001b[1;32m-> 1527\u001b[0m     \u001b[43mevaluate_candidates\u001b[49m\u001b[43m(\u001b[49m\u001b[43mParameterGrid\u001b[49m\u001b[43m(\u001b[49m\u001b[38;5;28;43mself\u001b[39;49m\u001b[38;5;241;43m.\u001b[39;49m\u001b[43mparam_grid\u001b[49m\u001b[43m)\u001b[49m\u001b[43m)\u001b[49m\n",
      "File \u001b[1;32m~\\AppData\\Local\\Programs\\Python\\Python312\\Lib\\site-packages\\sklearn\\model_selection\\_search.py:916\u001b[0m, in \u001b[0;36mBaseSearchCV.fit.<locals>.evaluate_candidates\u001b[1;34m(candidate_params, cv, more_results)\u001b[0m\n\u001b[0;32m    908\u001b[0m \u001b[38;5;28;01mif\u001b[39;00m \u001b[38;5;28mself\u001b[39m\u001b[38;5;241m.\u001b[39mverbose \u001b[38;5;241m>\u001b[39m \u001b[38;5;241m0\u001b[39m:\n\u001b[0;32m    909\u001b[0m     \u001b[38;5;28mprint\u001b[39m(\n\u001b[0;32m    910\u001b[0m         \u001b[38;5;124m\"\u001b[39m\u001b[38;5;124mFitting \u001b[39m\u001b[38;5;132;01m{0}\u001b[39;00m\u001b[38;5;124m folds for each of \u001b[39m\u001b[38;5;132;01m{1}\u001b[39;00m\u001b[38;5;124m candidates,\u001b[39m\u001b[38;5;124m\"\u001b[39m\n\u001b[0;32m    911\u001b[0m         \u001b[38;5;124m\"\u001b[39m\u001b[38;5;124m totalling \u001b[39m\u001b[38;5;132;01m{2}\u001b[39;00m\u001b[38;5;124m fits\u001b[39m\u001b[38;5;124m\"\u001b[39m\u001b[38;5;241m.\u001b[39mformat(\n\u001b[0;32m    912\u001b[0m             n_splits, n_candidates, n_candidates \u001b[38;5;241m*\u001b[39m n_splits\n\u001b[0;32m    913\u001b[0m         )\n\u001b[0;32m    914\u001b[0m     )\n\u001b[1;32m--> 916\u001b[0m out \u001b[38;5;241m=\u001b[39m \u001b[43mparallel\u001b[49m\u001b[43m(\u001b[49m\n\u001b[0;32m    917\u001b[0m \u001b[43m    \u001b[49m\u001b[43mdelayed\u001b[49m\u001b[43m(\u001b[49m\u001b[43m_fit_and_score\u001b[49m\u001b[43m)\u001b[49m\u001b[43m(\u001b[49m\n\u001b[0;32m    918\u001b[0m \u001b[43m        \u001b[49m\u001b[43mclone\u001b[49m\u001b[43m(\u001b[49m\u001b[43mbase_estimator\u001b[49m\u001b[43m)\u001b[49m\u001b[43m,\u001b[49m\n\u001b[0;32m    919\u001b[0m \u001b[43m        \u001b[49m\u001b[43mX\u001b[49m\u001b[43m,\u001b[49m\n\u001b[0;32m    920\u001b[0m \u001b[43m        \u001b[49m\u001b[43my\u001b[49m\u001b[43m,\u001b[49m\n\u001b[0;32m    921\u001b[0m \u001b[43m        \u001b[49m\u001b[43mtrain\u001b[49m\u001b[38;5;241;43m=\u001b[39;49m\u001b[43mtrain\u001b[49m\u001b[43m,\u001b[49m\n\u001b[0;32m    922\u001b[0m \u001b[43m        \u001b[49m\u001b[43mtest\u001b[49m\u001b[38;5;241;43m=\u001b[39;49m\u001b[43mtest\u001b[49m\u001b[43m,\u001b[49m\n\u001b[0;32m    923\u001b[0m \u001b[43m        \u001b[49m\u001b[43mparameters\u001b[49m\u001b[38;5;241;43m=\u001b[39;49m\u001b[43mparameters\u001b[49m\u001b[43m,\u001b[49m\n\u001b[0;32m    924\u001b[0m \u001b[43m        \u001b[49m\u001b[43msplit_progress\u001b[49m\u001b[38;5;241;43m=\u001b[39;49m\u001b[43m(\u001b[49m\u001b[43msplit_idx\u001b[49m\u001b[43m,\u001b[49m\u001b[43m \u001b[49m\u001b[43mn_splits\u001b[49m\u001b[43m)\u001b[49m\u001b[43m,\u001b[49m\n\u001b[0;32m    925\u001b[0m \u001b[43m        \u001b[49m\u001b[43mcandidate_progress\u001b[49m\u001b[38;5;241;43m=\u001b[39;49m\u001b[43m(\u001b[49m\u001b[43mcand_idx\u001b[49m\u001b[43m,\u001b[49m\u001b[43m \u001b[49m\u001b[43mn_candidates\u001b[49m\u001b[43m)\u001b[49m\u001b[43m,\u001b[49m\n\u001b[0;32m    926\u001b[0m \u001b[43m        \u001b[49m\u001b[38;5;241;43m*\u001b[39;49m\u001b[38;5;241;43m*\u001b[39;49m\u001b[43mfit_and_score_kwargs\u001b[49m\u001b[43m,\u001b[49m\n\u001b[0;32m    927\u001b[0m \u001b[43m    \u001b[49m\u001b[43m)\u001b[49m\n\u001b[0;32m    928\u001b[0m \u001b[43m    \u001b[49m\u001b[38;5;28;43;01mfor\u001b[39;49;00m\u001b[43m \u001b[49m\u001b[43m(\u001b[49m\u001b[43mcand_idx\u001b[49m\u001b[43m,\u001b[49m\u001b[43m \u001b[49m\u001b[43mparameters\u001b[49m\u001b[43m)\u001b[49m\u001b[43m,\u001b[49m\u001b[43m \u001b[49m\u001b[43m(\u001b[49m\u001b[43msplit_idx\u001b[49m\u001b[43m,\u001b[49m\u001b[43m \u001b[49m\u001b[43m(\u001b[49m\u001b[43mtrain\u001b[49m\u001b[43m,\u001b[49m\u001b[43m \u001b[49m\u001b[43mtest\u001b[49m\u001b[43m)\u001b[49m\u001b[43m)\u001b[49m\u001b[43m \u001b[49m\u001b[38;5;129;43;01min\u001b[39;49;00m\u001b[43m \u001b[49m\u001b[43mproduct\u001b[49m\u001b[43m(\u001b[49m\n\u001b[0;32m    929\u001b[0m \u001b[43m        \u001b[49m\u001b[38;5;28;43menumerate\u001b[39;49m\u001b[43m(\u001b[49m\u001b[43mcandidate_params\u001b[49m\u001b[43m)\u001b[49m\u001b[43m,\u001b[49m\n\u001b[0;32m    930\u001b[0m \u001b[43m        \u001b[49m\u001b[38;5;28;43menumerate\u001b[39;49m\u001b[43m(\u001b[49m\u001b[43mcv\u001b[49m\u001b[38;5;241;43m.\u001b[39;49m\u001b[43msplit\u001b[49m\u001b[43m(\u001b[49m\u001b[43mX\u001b[49m\u001b[43m,\u001b[49m\u001b[43m \u001b[49m\u001b[43my\u001b[49m\u001b[43m,\u001b[49m\u001b[43m \u001b[49m\u001b[38;5;241;43m*\u001b[39;49m\u001b[38;5;241;43m*\u001b[39;49m\u001b[43mrouted_params\u001b[49m\u001b[38;5;241;43m.\u001b[39;49m\u001b[43msplitter\u001b[49m\u001b[38;5;241;43m.\u001b[39;49m\u001b[43msplit\u001b[49m\u001b[43m)\u001b[49m\u001b[43m)\u001b[49m\u001b[43m,\u001b[49m\n\u001b[0;32m    931\u001b[0m \u001b[43m    \u001b[49m\u001b[43m)\u001b[49m\n\u001b[0;32m    932\u001b[0m \u001b[43m\u001b[49m\u001b[43m)\u001b[49m\n\u001b[0;32m    934\u001b[0m \u001b[38;5;28;01mif\u001b[39;00m \u001b[38;5;28mlen\u001b[39m(out) \u001b[38;5;241m<\u001b[39m \u001b[38;5;241m1\u001b[39m:\n\u001b[0;32m    935\u001b[0m     \u001b[38;5;28;01mraise\u001b[39;00m \u001b[38;5;167;01mValueError\u001b[39;00m(\n\u001b[0;32m    936\u001b[0m         \u001b[38;5;124m\"\u001b[39m\u001b[38;5;124mNo fits were performed. \u001b[39m\u001b[38;5;124m\"\u001b[39m\n\u001b[0;32m    937\u001b[0m         \u001b[38;5;124m\"\u001b[39m\u001b[38;5;124mWas the CV iterator empty? \u001b[39m\u001b[38;5;124m\"\u001b[39m\n\u001b[0;32m    938\u001b[0m         \u001b[38;5;124m\"\u001b[39m\u001b[38;5;124mWere there no candidates?\u001b[39m\u001b[38;5;124m\"\u001b[39m\n\u001b[0;32m    939\u001b[0m     )\n",
      "File \u001b[1;32m~\\AppData\\Local\\Programs\\Python\\Python312\\Lib\\site-packages\\sklearn\\utils\\parallel.py:67\u001b[0m, in \u001b[0;36mParallel.__call__\u001b[1;34m(self, iterable)\u001b[0m\n\u001b[0;32m     62\u001b[0m config \u001b[38;5;241m=\u001b[39m get_config()\n\u001b[0;32m     63\u001b[0m iterable_with_config \u001b[38;5;241m=\u001b[39m (\n\u001b[0;32m     64\u001b[0m     (_with_config(delayed_func, config), args, kwargs)\n\u001b[0;32m     65\u001b[0m     \u001b[38;5;28;01mfor\u001b[39;00m delayed_func, args, kwargs \u001b[38;5;129;01min\u001b[39;00m iterable\n\u001b[0;32m     66\u001b[0m )\n\u001b[1;32m---> 67\u001b[0m \u001b[38;5;28;01mreturn\u001b[39;00m \u001b[38;5;28;43msuper\u001b[39;49m\u001b[43m(\u001b[49m\u001b[43m)\u001b[49m\u001b[38;5;241;43m.\u001b[39;49m\u001b[38;5;21;43m__call__\u001b[39;49m\u001b[43m(\u001b[49m\u001b[43miterable_with_config\u001b[49m\u001b[43m)\u001b[49m\n",
      "File \u001b[1;32m~\\AppData\\Local\\Programs\\Python\\Python312\\Lib\\site-packages\\joblib\\parallel.py:2007\u001b[0m, in \u001b[0;36mParallel.__call__\u001b[1;34m(self, iterable)\u001b[0m\n\u001b[0;32m   2001\u001b[0m \u001b[38;5;66;03m# The first item from the output is blank, but it makes the interpreter\u001b[39;00m\n\u001b[0;32m   2002\u001b[0m \u001b[38;5;66;03m# progress until it enters the Try/Except block of the generator and\u001b[39;00m\n\u001b[0;32m   2003\u001b[0m \u001b[38;5;66;03m# reach the first `yield` statement. This starts the aynchronous\u001b[39;00m\n\u001b[0;32m   2004\u001b[0m \u001b[38;5;66;03m# dispatch of the tasks to the workers.\u001b[39;00m\n\u001b[0;32m   2005\u001b[0m \u001b[38;5;28mnext\u001b[39m(output)\n\u001b[1;32m-> 2007\u001b[0m \u001b[38;5;28;01mreturn\u001b[39;00m output \u001b[38;5;28;01mif\u001b[39;00m \u001b[38;5;28mself\u001b[39m\u001b[38;5;241m.\u001b[39mreturn_generator \u001b[38;5;28;01melse\u001b[39;00m \u001b[38;5;28;43mlist\u001b[39;49m\u001b[43m(\u001b[49m\u001b[43moutput\u001b[49m\u001b[43m)\u001b[49m\n",
      "File \u001b[1;32m~\\AppData\\Local\\Programs\\Python\\Python312\\Lib\\site-packages\\joblib\\parallel.py:1650\u001b[0m, in \u001b[0;36mParallel._get_outputs\u001b[1;34m(self, iterator, pre_dispatch)\u001b[0m\n\u001b[0;32m   1647\u001b[0m     \u001b[38;5;28;01myield\u001b[39;00m\n\u001b[0;32m   1649\u001b[0m     \u001b[38;5;28;01mwith\u001b[39;00m \u001b[38;5;28mself\u001b[39m\u001b[38;5;241m.\u001b[39m_backend\u001b[38;5;241m.\u001b[39mretrieval_context():\n\u001b[1;32m-> 1650\u001b[0m         \u001b[38;5;28;01myield from\u001b[39;00m \u001b[38;5;28mself\u001b[39m\u001b[38;5;241m.\u001b[39m_retrieve()\n\u001b[0;32m   1652\u001b[0m \u001b[38;5;28;01mexcept\u001b[39;00m \u001b[38;5;167;01mGeneratorExit\u001b[39;00m:\n\u001b[0;32m   1653\u001b[0m     \u001b[38;5;66;03m# The generator has been garbage collected before being fully\u001b[39;00m\n\u001b[0;32m   1654\u001b[0m     \u001b[38;5;66;03m# consumed. This aborts the remaining tasks if possible and warn\u001b[39;00m\n\u001b[0;32m   1655\u001b[0m     \u001b[38;5;66;03m# the user if necessary.\u001b[39;00m\n\u001b[0;32m   1656\u001b[0m     \u001b[38;5;28mself\u001b[39m\u001b[38;5;241m.\u001b[39m_exception \u001b[38;5;241m=\u001b[39m \u001b[38;5;28;01mTrue\u001b[39;00m\n",
      "File \u001b[1;32m~\\AppData\\Local\\Programs\\Python\\Python312\\Lib\\site-packages\\joblib\\parallel.py:1762\u001b[0m, in \u001b[0;36mParallel._retrieve\u001b[1;34m(self)\u001b[0m\n\u001b[0;32m   1757\u001b[0m \u001b[38;5;66;03m# If the next job is not ready for retrieval yet, we just wait for\u001b[39;00m\n\u001b[0;32m   1758\u001b[0m \u001b[38;5;66;03m# async callbacks to progress.\u001b[39;00m\n\u001b[0;32m   1759\u001b[0m \u001b[38;5;28;01mif\u001b[39;00m ((\u001b[38;5;28mlen\u001b[39m(\u001b[38;5;28mself\u001b[39m\u001b[38;5;241m.\u001b[39m_jobs) \u001b[38;5;241m==\u001b[39m \u001b[38;5;241m0\u001b[39m) \u001b[38;5;129;01mor\u001b[39;00m\n\u001b[0;32m   1760\u001b[0m     (\u001b[38;5;28mself\u001b[39m\u001b[38;5;241m.\u001b[39m_jobs[\u001b[38;5;241m0\u001b[39m]\u001b[38;5;241m.\u001b[39mget_status(\n\u001b[0;32m   1761\u001b[0m         timeout\u001b[38;5;241m=\u001b[39m\u001b[38;5;28mself\u001b[39m\u001b[38;5;241m.\u001b[39mtimeout) \u001b[38;5;241m==\u001b[39m TASK_PENDING)):\n\u001b[1;32m-> 1762\u001b[0m     \u001b[43mtime\u001b[49m\u001b[38;5;241;43m.\u001b[39;49m\u001b[43msleep\u001b[49m\u001b[43m(\u001b[49m\u001b[38;5;241;43m0.01\u001b[39;49m\u001b[43m)\u001b[49m\n\u001b[0;32m   1763\u001b[0m     \u001b[38;5;28;01mcontinue\u001b[39;00m\n\u001b[0;32m   1765\u001b[0m \u001b[38;5;66;03m# We need to be careful: the job list can be filling up as\u001b[39;00m\n\u001b[0;32m   1766\u001b[0m \u001b[38;5;66;03m# we empty it and Python list are not thread-safe by\u001b[39;00m\n\u001b[0;32m   1767\u001b[0m \u001b[38;5;66;03m# default hence the use of the lock\u001b[39;00m\n",
      "\u001b[1;31mKeyboardInterrupt\u001b[0m: "
     ]
    }
   ],
   "source": [
    "from sklearn.model_selection import GridSearchCV\n",
    "\n",
    "param_grid = {\n",
    "    'n_estimators': [100, 200, 300],\n",
    "    'max_depth': [None, 10, 20, 30],\n",
    "    'min_samples_split': [2, 5, 10],\n",
    "    'min_samples_leaf': [1, 2, 4]\n",
    "}\n",
    "\n",
    "rf = RandomForestRegressor(random_state=42)\n",
    "grid_search = GridSearchCV(rf, param_grid, cv=5, scoring='neg_mean_absolute_error', n_jobs=-1)\n",
    "grid_search.fit(X_train, y_train.values.ravel())\n",
    "\n",
    "print(\"Best Parameters:\", grid_search.best_params_)\n",
    "best_rf_model = grid_search.best_estimator_\n",
    "rf_pred_test_tuned = best_rf_model.predict(X_test)\n",
    "rf_mae_test_tuned = mean_absolute_error(y_test, rf_pred_test_tuned)\n",
    "print(f\"Tuned Random Forest Test MAE: {rf_mae_test_tuned}\")\n"
   ]
  },
  {
   "cell_type": "markdown",
   "id": "c64f8ad6-d296-4a61-9d8f-76dd8a373a4c",
   "metadata": {},
   "source": [
    "# XGBoost Model"
   ]
  },
  {
   "cell_type": "code",
   "execution_count": 25,
   "id": "305086de-202c-4016-9c89-6cada244f4ad",
   "metadata": {},
   "outputs": [
    {
     "name": "stdout",
     "output_type": "stream",
     "text": [
      "XGBoost Test MAE: 0.733683444569948\n"
     ]
    }
   ],
   "source": [
    "from xgboost import XGBRegressor\n",
    "\n",
    "xgb_model = XGBRegressor(n_estimators=100, learning_rate=0.1, random_state=42)\n",
    "xgb_model.fit(X_train, y_train)\n",
    "xgb_pred_test = xgb_model.predict(X_test)\n",
    "xgb_mae_test = mean_absolute_error(y_test, xgb_pred_test)\n",
    "print(f\"XGBoost Test MAE: {xgb_mae_test}\")\n"
   ]
  },
  {
   "cell_type": "code",
   "execution_count": 26,
   "id": "17825bab-8dbb-4aed-8ebe-b8107d3aff5d",
   "metadata": {},
   "outputs": [
    {
     "name": "stdout",
     "output_type": "stream",
     "text": [
      "XGB prediction:  [91.15193]\n"
     ]
    }
   ],
   "source": [
    "pred = np.array([31, 96, 4, 4, 86, 95, 70, 92, 86, 97, 93, 94, 89, 96, 91, 86, 93, 95, 95, 85, 68, 72, 88, 94, 48, 22, 94, 94, 75, 96, 33, 28, 26]).reshape(1, -1)\n",
    "pred2 = xgb_model.predict(pred)\n",
    "print(\"XGB prediction: \", pred2)"
   ]
  },
  {
   "cell_type": "markdown",
   "id": "88cc1d10-224a-48c7-b2e5-0f98a0e2613f",
   "metadata": {},
   "source": [
    "# Deep Model"
   ]
  },
  {
   "cell_type": "code",
   "execution_count": 27,
   "id": "692e2129-d9f2-49dd-ab78-4b3b91884fee",
   "metadata": {},
   "outputs": [],
   "source": [
    "import numpy as np\n",
    "import pandas as pd\n",
    "import tensorflow as tf\n",
    "from tensorflow import keras\n",
    "from tensorflow.keras import layers\n",
    "from sklearn.model_selection import train_test_split\n",
    "from sklearn.preprocessing import StandardScaler\n",
    "from sklearn.metrics import mean_absolute_error\n"
   ]
  },
  {
   "cell_type": "code",
   "execution_count": 28,
   "id": "fb89f09b-59a8-4fce-8900-c4e3c8feba67",
   "metadata": {},
   "outputs": [],
   "source": [
    "features = ['age', 'potential', 'weak_foot', 'skill', 'crossing', 'finishing', 'heading_accuracy',\n",
    "            'short_passing', 'volleys', 'dribbling', 'curve', 'freekick_accuracy', 'long_passing',\n",
    "            'ball_control', 'acceleration', 'sprint_speed', 'agility', 'reactions', 'balance',\n",
    "            'shot_power', 'jumping', 'stamina', 'strength', 'long_shots', 'aggression',\n",
    "            'interceptions', 'positioning', 'vision', 'penalties', 'composure', 'marking',\n",
    "            'standing_tackle', 'sliding_tackle']\n",
    "\n",
    "X = foot[features]\n",
    "y = foot['overall_rating']\n",
    "\n",
    "X_train, X_test, y_train, y_test = train_test_split(X, y, test_size=0.2, random_state=42)\n",
    "\n",
    "scaler = StandardScaler()\n",
    "X_train_scaled = scaler.fit_transform(X_train)\n",
    "X_test_scaled = scaler.transform(X_test)\n"
   ]
  },
  {
   "cell_type": "code",
   "execution_count": 29,
   "id": "c05ccf08-5e71-4a75-942e-a2222060ffae",
   "metadata": {},
   "outputs": [
    {
     "name": "stderr",
     "output_type": "stream",
     "text": [
      "C:\\Users\\Home\\AppData\\Local\\Programs\\Python\\Python312\\Lib\\site-packages\\keras\\src\\layers\\core\\dense.py:87: UserWarning: Do not pass an `input_shape`/`input_dim` argument to a layer. When using Sequential models, prefer using an `Input(shape)` object as the first layer in the model instead.\n",
      "  super().__init__(activity_regularizer=activity_regularizer, **kwargs)\n"
     ]
    },
    {
     "data": {
      "text/html": [
       "<pre style=\"white-space:pre;overflow-x:auto;line-height:normal;font-family:Menlo,'DejaVu Sans Mono',consolas,'Courier New',monospace\"><span style=\"font-weight: bold\">Model: \"sequential\"</span>\n",
       "</pre>\n"
      ],
      "text/plain": [
       "\u001b[1mModel: \"sequential\"\u001b[0m\n"
      ]
     },
     "metadata": {},
     "output_type": "display_data"
    },
    {
     "data": {
      "text/html": [
       "<pre style=\"white-space:pre;overflow-x:auto;line-height:normal;font-family:Menlo,'DejaVu Sans Mono',consolas,'Courier New',monospace\">┏━━━━━━━━━━━━━━━━━━━━━━━━━━━━━━━━━━━━━━┳━━━━━━━━━━━━━━━━━━━━━━━━━━━━━┳━━━━━━━━━━━━━━━━━┓\n",
       "┃<span style=\"font-weight: bold\"> Layer (type)                         </span>┃<span style=\"font-weight: bold\"> Output Shape                </span>┃<span style=\"font-weight: bold\">         Param # </span>┃\n",
       "┡━━━━━━━━━━━━━━━━━━━━━━━━━━━━━━━━━━━━━━╇━━━━━━━━━━━━━━━━━━━━━━━━━━━━━╇━━━━━━━━━━━━━━━━━┩\n",
       "│ dense (<span style=\"color: #0087ff; text-decoration-color: #0087ff\">Dense</span>)                        │ (<span style=\"color: #00d7ff; text-decoration-color: #00d7ff\">None</span>, <span style=\"color: #00af00; text-decoration-color: #00af00\">64</span>)                  │           <span style=\"color: #00af00; text-decoration-color: #00af00\">2,176</span> │\n",
       "├──────────────────────────────────────┼─────────────────────────────┼─────────────────┤\n",
       "│ dense_1 (<span style=\"color: #0087ff; text-decoration-color: #0087ff\">Dense</span>)                      │ (<span style=\"color: #00d7ff; text-decoration-color: #00d7ff\">None</span>, <span style=\"color: #00af00; text-decoration-color: #00af00\">32</span>)                  │           <span style=\"color: #00af00; text-decoration-color: #00af00\">2,080</span> │\n",
       "├──────────────────────────────────────┼─────────────────────────────┼─────────────────┤\n",
       "│ dense_2 (<span style=\"color: #0087ff; text-decoration-color: #0087ff\">Dense</span>)                      │ (<span style=\"color: #00d7ff; text-decoration-color: #00d7ff\">None</span>, <span style=\"color: #00af00; text-decoration-color: #00af00\">16</span>)                  │             <span style=\"color: #00af00; text-decoration-color: #00af00\">528</span> │\n",
       "├──────────────────────────────────────┼─────────────────────────────┼─────────────────┤\n",
       "│ dense_3 (<span style=\"color: #0087ff; text-decoration-color: #0087ff\">Dense</span>)                      │ (<span style=\"color: #00d7ff; text-decoration-color: #00d7ff\">None</span>, <span style=\"color: #00af00; text-decoration-color: #00af00\">1</span>)                   │              <span style=\"color: #00af00; text-decoration-color: #00af00\">17</span> │\n",
       "└──────────────────────────────────────┴─────────────────────────────┴─────────────────┘\n",
       "</pre>\n"
      ],
      "text/plain": [
       "┏━━━━━━━━━━━━━━━━━━━━━━━━━━━━━━━━━━━━━━┳━━━━━━━━━━━━━━━━━━━━━━━━━━━━━┳━━━━━━━━━━━━━━━━━┓\n",
       "┃\u001b[1m \u001b[0m\u001b[1mLayer (type)                        \u001b[0m\u001b[1m \u001b[0m┃\u001b[1m \u001b[0m\u001b[1mOutput Shape               \u001b[0m\u001b[1m \u001b[0m┃\u001b[1m \u001b[0m\u001b[1m        Param #\u001b[0m\u001b[1m \u001b[0m┃\n",
       "┡━━━━━━━━━━━━━━━━━━━━━━━━━━━━━━━━━━━━━━╇━━━━━━━━━━━━━━━━━━━━━━━━━━━━━╇━━━━━━━━━━━━━━━━━┩\n",
       "│ dense (\u001b[38;5;33mDense\u001b[0m)                        │ (\u001b[38;5;45mNone\u001b[0m, \u001b[38;5;34m64\u001b[0m)                  │           \u001b[38;5;34m2,176\u001b[0m │\n",
       "├──────────────────────────────────────┼─────────────────────────────┼─────────────────┤\n",
       "│ dense_1 (\u001b[38;5;33mDense\u001b[0m)                      │ (\u001b[38;5;45mNone\u001b[0m, \u001b[38;5;34m32\u001b[0m)                  │           \u001b[38;5;34m2,080\u001b[0m │\n",
       "├──────────────────────────────────────┼─────────────────────────────┼─────────────────┤\n",
       "│ dense_2 (\u001b[38;5;33mDense\u001b[0m)                      │ (\u001b[38;5;45mNone\u001b[0m, \u001b[38;5;34m16\u001b[0m)                  │             \u001b[38;5;34m528\u001b[0m │\n",
       "├──────────────────────────────────────┼─────────────────────────────┼─────────────────┤\n",
       "│ dense_3 (\u001b[38;5;33mDense\u001b[0m)                      │ (\u001b[38;5;45mNone\u001b[0m, \u001b[38;5;34m1\u001b[0m)                   │              \u001b[38;5;34m17\u001b[0m │\n",
       "└──────────────────────────────────────┴─────────────────────────────┴─────────────────┘\n"
      ]
     },
     "metadata": {},
     "output_type": "display_data"
    },
    {
     "data": {
      "text/html": [
       "<pre style=\"white-space:pre;overflow-x:auto;line-height:normal;font-family:Menlo,'DejaVu Sans Mono',consolas,'Courier New',monospace\"><span style=\"font-weight: bold\"> Total params: </span><span style=\"color: #00af00; text-decoration-color: #00af00\">4,801</span> (18.75 KB)\n",
       "</pre>\n"
      ],
      "text/plain": [
       "\u001b[1m Total params: \u001b[0m\u001b[38;5;34m4,801\u001b[0m (18.75 KB)\n"
      ]
     },
     "metadata": {},
     "output_type": "display_data"
    },
    {
     "data": {
      "text/html": [
       "<pre style=\"white-space:pre;overflow-x:auto;line-height:normal;font-family:Menlo,'DejaVu Sans Mono',consolas,'Courier New',monospace\"><span style=\"font-weight: bold\"> Trainable params: </span><span style=\"color: #00af00; text-decoration-color: #00af00\">4,801</span> (18.75 KB)\n",
       "</pre>\n"
      ],
      "text/plain": [
       "\u001b[1m Trainable params: \u001b[0m\u001b[38;5;34m4,801\u001b[0m (18.75 KB)\n"
      ]
     },
     "metadata": {},
     "output_type": "display_data"
    },
    {
     "data": {
      "text/html": [
       "<pre style=\"white-space:pre;overflow-x:auto;line-height:normal;font-family:Menlo,'DejaVu Sans Mono',consolas,'Courier New',monospace\"><span style=\"font-weight: bold\"> Non-trainable params: </span><span style=\"color: #00af00; text-decoration-color: #00af00\">0</span> (0.00 B)\n",
       "</pre>\n"
      ],
      "text/plain": [
       "\u001b[1m Non-trainable params: \u001b[0m\u001b[38;5;34m0\u001b[0m (0.00 B)\n"
      ]
     },
     "metadata": {},
     "output_type": "display_data"
    }
   ],
   "source": [
    "model = keras.Sequential([\n",
    "    layers.Dense(64, activation='relu', input_shape=(X_train.shape[1],)),\n",
    "    layers.Dense(32, activation='relu'),\n",
    "    layers.Dense(16, activation='relu'),\n",
    "    layers.Dense(1) \n",
    "])\n",
    "\n",
    "model.compile(optimizer='adam', loss='mae', metrics=['mae'])\n",
    "\n",
    "model.summary()\n"
   ]
  },
  {
   "cell_type": "code",
   "execution_count": 30,
   "id": "0d017072-5a76-4138-bb5e-bcf047aa489c",
   "metadata": {},
   "outputs": [
    {
     "name": "stdout",
     "output_type": "stream",
     "text": [
      "Epoch 1/100\n",
      "\u001b[1m449/449\u001b[0m \u001b[32m━━━━━━━━━━━━━━━━━━━━\u001b[0m\u001b[37m\u001b[0m \u001b[1m5s\u001b[0m 2ms/step - loss: 35.0998 - mae: 35.0998 - val_loss: 3.8652 - val_mae: 3.8652\n",
      "Epoch 2/100\n",
      "\u001b[1m449/449\u001b[0m \u001b[32m━━━━━━━━━━━━━━━━━━━━\u001b[0m\u001b[37m\u001b[0m \u001b[1m0s\u001b[0m 844us/step - loss: 3.4923 - mae: 3.4923 - val_loss: 2.6505 - val_mae: 2.6505\n",
      "Epoch 3/100\n",
      "\u001b[1m449/449\u001b[0m \u001b[32m━━━━━━━━━━━━━━━━━━━━\u001b[0m\u001b[37m\u001b[0m \u001b[1m0s\u001b[0m 870us/step - loss: 2.5356 - mae: 2.5356 - val_loss: 1.9914 - val_mae: 1.9914\n",
      "Epoch 4/100\n",
      "\u001b[1m449/449\u001b[0m \u001b[32m━━━━━━━━━━━━━━━━━━━━\u001b[0m\u001b[37m\u001b[0m \u001b[1m0s\u001b[0m 853us/step - loss: 1.8620 - mae: 1.8620 - val_loss: 1.4848 - val_mae: 1.4848\n",
      "Epoch 5/100\n",
      "\u001b[1m449/449\u001b[0m \u001b[32m━━━━━━━━━━━━━━━━━━━━\u001b[0m\u001b[37m\u001b[0m \u001b[1m0s\u001b[0m 876us/step - loss: 1.5019 - mae: 1.5019 - val_loss: 1.2312 - val_mae: 1.2312\n",
      "Epoch 6/100\n",
      "\u001b[1m449/449\u001b[0m \u001b[32m━━━━━━━━━━━━━━━━━━━━\u001b[0m\u001b[37m\u001b[0m \u001b[1m0s\u001b[0m 853us/step - loss: 1.2660 - mae: 1.2660 - val_loss: 1.1876 - val_mae: 1.1876\n",
      "Epoch 7/100\n",
      "\u001b[1m449/449\u001b[0m \u001b[32m━━━━━━━━━━━━━━━━━━━━\u001b[0m\u001b[37m\u001b[0m \u001b[1m0s\u001b[0m 869us/step - loss: 1.0649 - mae: 1.0649 - val_loss: 0.9235 - val_mae: 0.9235\n",
      "Epoch 8/100\n",
      "\u001b[1m449/449\u001b[0m \u001b[32m━━━━━━━━━━━━━━━━━━━━\u001b[0m\u001b[37m\u001b[0m \u001b[1m0s\u001b[0m 869us/step - loss: 1.0318 - mae: 1.0318 - val_loss: 0.9948 - val_mae: 0.9948\n",
      "Epoch 9/100\n",
      "\u001b[1m449/449\u001b[0m \u001b[32m━━━━━━━━━━━━━━━━━━━━\u001b[0m\u001b[37m\u001b[0m \u001b[1m0s\u001b[0m 905us/step - loss: 0.9262 - mae: 0.9262 - val_loss: 0.8909 - val_mae: 0.8909\n",
      "Epoch 10/100\n",
      "\u001b[1m449/449\u001b[0m \u001b[32m━━━━━━━━━━━━━━━━━━━━\u001b[0m\u001b[37m\u001b[0m \u001b[1m0s\u001b[0m 868us/step - loss: 0.8839 - mae: 0.8839 - val_loss: 0.8474 - val_mae: 0.8474\n",
      "Epoch 11/100\n",
      "\u001b[1m449/449\u001b[0m \u001b[32m━━━━━━━━━━━━━━━━━━━━\u001b[0m\u001b[37m\u001b[0m \u001b[1m0s\u001b[0m 857us/step - loss: 0.8728 - mae: 0.8728 - val_loss: 0.8450 - val_mae: 0.8450\n",
      "Epoch 12/100\n",
      "\u001b[1m449/449\u001b[0m \u001b[32m━━━━━━━━━━━━━━━━━━━━\u001b[0m\u001b[37m\u001b[0m \u001b[1m0s\u001b[0m 846us/step - loss: 0.8428 - mae: 0.8428 - val_loss: 0.8898 - val_mae: 0.8898\n",
      "Epoch 13/100\n",
      "\u001b[1m449/449\u001b[0m \u001b[32m━━━━━━━━━━━━━━━━━━━━\u001b[0m\u001b[37m\u001b[0m \u001b[1m0s\u001b[0m 862us/step - loss: 0.8061 - mae: 0.8061 - val_loss: 0.8349 - val_mae: 0.8349\n",
      "Epoch 14/100\n",
      "\u001b[1m449/449\u001b[0m \u001b[32m━━━━━━━━━━━━━━━━━━━━\u001b[0m\u001b[37m\u001b[0m \u001b[1m0s\u001b[0m 838us/step - loss: 0.8000 - mae: 0.8000 - val_loss: 0.7186 - val_mae: 0.7186\n",
      "Epoch 15/100\n",
      "\u001b[1m449/449\u001b[0m \u001b[32m━━━━━━━━━━━━━━━━━━━━\u001b[0m\u001b[37m\u001b[0m \u001b[1m0s\u001b[0m 891us/step - loss: 0.7681 - mae: 0.7681 - val_loss: 0.7135 - val_mae: 0.7135\n",
      "Epoch 16/100\n",
      "\u001b[1m449/449\u001b[0m \u001b[32m━━━━━━━━━━━━━━━━━━━━\u001b[0m\u001b[37m\u001b[0m \u001b[1m0s\u001b[0m 856us/step - loss: 0.7228 - mae: 0.7228 - val_loss: 0.7238 - val_mae: 0.7238\n",
      "Epoch 17/100\n",
      "\u001b[1m449/449\u001b[0m \u001b[32m━━━━━━━━━━━━━━━━━━━━\u001b[0m\u001b[37m\u001b[0m \u001b[1m0s\u001b[0m 870us/step - loss: 0.7313 - mae: 0.7313 - val_loss: 0.8674 - val_mae: 0.8674\n",
      "Epoch 18/100\n",
      "\u001b[1m449/449\u001b[0m \u001b[32m━━━━━━━━━━━━━━━━━━━━\u001b[0m\u001b[37m\u001b[0m \u001b[1m0s\u001b[0m 854us/step - loss: 0.7409 - mae: 0.7409 - val_loss: 0.7272 - val_mae: 0.7272\n",
      "Epoch 19/100\n",
      "\u001b[1m449/449\u001b[0m \u001b[32m━━━━━━━━━━━━━━━━━━━━\u001b[0m\u001b[37m\u001b[0m \u001b[1m0s\u001b[0m 847us/step - loss: 0.7218 - mae: 0.7218 - val_loss: 0.7669 - val_mae: 0.7669\n",
      "Epoch 20/100\n",
      "\u001b[1m449/449\u001b[0m \u001b[32m━━━━━━━━━━━━━━━━━━━━\u001b[0m\u001b[37m\u001b[0m \u001b[1m0s\u001b[0m 910us/step - loss: 0.7166 - mae: 0.7166 - val_loss: 0.6801 - val_mae: 0.6801\n",
      "Epoch 21/100\n",
      "\u001b[1m449/449\u001b[0m \u001b[32m━━━━━━━━━━━━━━━━━━━━\u001b[0m\u001b[37m\u001b[0m \u001b[1m0s\u001b[0m 870us/step - loss: 0.6865 - mae: 0.6865 - val_loss: 0.7266 - val_mae: 0.7266\n",
      "Epoch 22/100\n",
      "\u001b[1m449/449\u001b[0m \u001b[32m━━━━━━━━━━━━━━━━━━━━\u001b[0m\u001b[37m\u001b[0m \u001b[1m0s\u001b[0m 853us/step - loss: 0.6924 - mae: 0.6924 - val_loss: 0.6856 - val_mae: 0.6856\n",
      "Epoch 23/100\n",
      "\u001b[1m449/449\u001b[0m \u001b[32m━━━━━━━━━━━━━━━━━━━━\u001b[0m\u001b[37m\u001b[0m \u001b[1m0s\u001b[0m 845us/step - loss: 0.6730 - mae: 0.6730 - val_loss: 0.8650 - val_mae: 0.8650\n",
      "Epoch 24/100\n",
      "\u001b[1m449/449\u001b[0m \u001b[32m━━━━━━━━━━━━━━━━━━━━\u001b[0m\u001b[37m\u001b[0m \u001b[1m0s\u001b[0m 842us/step - loss: 0.6803 - mae: 0.6803 - val_loss: 0.7182 - val_mae: 0.7182\n",
      "Epoch 25/100\n",
      "\u001b[1m449/449\u001b[0m \u001b[32m━━━━━━━━━━━━━━━━━━━━\u001b[0m\u001b[37m\u001b[0m \u001b[1m0s\u001b[0m 891us/step - loss: 0.6686 - mae: 0.6686 - val_loss: 0.7277 - val_mae: 0.7277\n",
      "Epoch 26/100\n",
      "\u001b[1m449/449\u001b[0m \u001b[32m━━━━━━━━━━━━━━━━━━━━\u001b[0m\u001b[37m\u001b[0m \u001b[1m0s\u001b[0m 856us/step - loss: 0.6407 - mae: 0.6407 - val_loss: 0.7310 - val_mae: 0.7310\n",
      "Epoch 27/100\n",
      "\u001b[1m449/449\u001b[0m \u001b[32m━━━━━━━━━━━━━━━━━━━━\u001b[0m\u001b[37m\u001b[0m \u001b[1m0s\u001b[0m 865us/step - loss: 0.6417 - mae: 0.6417 - val_loss: 0.6228 - val_mae: 0.6228\n",
      "Epoch 28/100\n",
      "\u001b[1m449/449\u001b[0m \u001b[32m━━━━━━━━━━━━━━━━━━━━\u001b[0m\u001b[37m\u001b[0m \u001b[1m0s\u001b[0m 824us/step - loss: 0.6048 - mae: 0.6048 - val_loss: 0.5962 - val_mae: 0.5962\n",
      "Epoch 29/100\n",
      "\u001b[1m449/449\u001b[0m \u001b[32m━━━━━━━━━━━━━━━━━━━━\u001b[0m\u001b[37m\u001b[0m \u001b[1m0s\u001b[0m 912us/step - loss: 0.6450 - mae: 0.6450 - val_loss: 0.7109 - val_mae: 0.7109\n",
      "Epoch 30/100\n",
      "\u001b[1m449/449\u001b[0m \u001b[32m━━━━━━━━━━━━━━━━━━━━\u001b[0m\u001b[37m\u001b[0m \u001b[1m0s\u001b[0m 840us/step - loss: 0.6478 - mae: 0.6478 - val_loss: 0.6034 - val_mae: 0.6034\n",
      "Epoch 31/100\n",
      "\u001b[1m449/449\u001b[0m \u001b[32m━━━━━━━━━━━━━━━━━━━━\u001b[0m\u001b[37m\u001b[0m \u001b[1m0s\u001b[0m 854us/step - loss: 0.6254 - mae: 0.6254 - val_loss: 0.6664 - val_mae: 0.6664\n",
      "Epoch 32/100\n",
      "\u001b[1m449/449\u001b[0m \u001b[32m━━━━━━━━━━━━━━━━━━━━\u001b[0m\u001b[37m\u001b[0m \u001b[1m0s\u001b[0m 910us/step - loss: 0.6326 - mae: 0.6326 - val_loss: 0.7291 - val_mae: 0.7291\n",
      "Epoch 33/100\n",
      "\u001b[1m449/449\u001b[0m \u001b[32m━━━━━━━━━━━━━━━━━━━━\u001b[0m\u001b[37m\u001b[0m \u001b[1m0s\u001b[0m 847us/step - loss: 0.6384 - mae: 0.6384 - val_loss: 0.6373 - val_mae: 0.6373\n",
      "Epoch 34/100\n",
      "\u001b[1m449/449\u001b[0m \u001b[32m━━━━━━━━━━━━━━━━━━━━\u001b[0m\u001b[37m\u001b[0m \u001b[1m0s\u001b[0m 866us/step - loss: 0.6412 - mae: 0.6412 - val_loss: 0.7273 - val_mae: 0.7273\n",
      "Epoch 35/100\n",
      "\u001b[1m449/449\u001b[0m \u001b[32m━━━━━━━━━━━━━━━━━━━━\u001b[0m\u001b[37m\u001b[0m \u001b[1m0s\u001b[0m 898us/step - loss: 0.6465 - mae: 0.6465 - val_loss: 0.6566 - val_mae: 0.6566\n",
      "Epoch 36/100\n",
      "\u001b[1m449/449\u001b[0m \u001b[32m━━━━━━━━━━━━━━━━━━━━\u001b[0m\u001b[37m\u001b[0m \u001b[1m0s\u001b[0m 849us/step - loss: 0.5935 - mae: 0.5935 - val_loss: 0.6237 - val_mae: 0.6237\n",
      "Epoch 37/100\n",
      "\u001b[1m449/449\u001b[0m \u001b[32m━━━━━━━━━━━━━━━━━━━━\u001b[0m\u001b[37m\u001b[0m \u001b[1m0s\u001b[0m 855us/step - loss: 0.6246 - mae: 0.6246 - val_loss: 0.6693 - val_mae: 0.6693\n",
      "Epoch 38/100\n",
      "\u001b[1m449/449\u001b[0m \u001b[32m━━━━━━━━━━━━━━━━━━━━\u001b[0m\u001b[37m\u001b[0m \u001b[1m0s\u001b[0m 849us/step - loss: 0.6243 - mae: 0.6243 - val_loss: 0.6709 - val_mae: 0.6709\n",
      "Epoch 39/100\n",
      "\u001b[1m449/449\u001b[0m \u001b[32m━━━━━━━━━━━━━━━━━━━━\u001b[0m\u001b[37m\u001b[0m \u001b[1m0s\u001b[0m 910us/step - loss: 0.5939 - mae: 0.5939 - val_loss: 0.5664 - val_mae: 0.5664\n",
      "Epoch 40/100\n",
      "\u001b[1m449/449\u001b[0m \u001b[32m━━━━━━━━━━━━━━━━━━━━\u001b[0m\u001b[37m\u001b[0m \u001b[1m0s\u001b[0m 856us/step - loss: 0.5792 - mae: 0.5792 - val_loss: 0.6242 - val_mae: 0.6242\n",
      "Epoch 41/100\n",
      "\u001b[1m449/449\u001b[0m \u001b[32m━━━━━━━━━━━━━━━━━━━━\u001b[0m\u001b[37m\u001b[0m \u001b[1m0s\u001b[0m 853us/step - loss: 0.5876 - mae: 0.5876 - val_loss: 0.8381 - val_mae: 0.8381\n",
      "Epoch 42/100\n",
      "\u001b[1m449/449\u001b[0m \u001b[32m━━━━━━━━━━━━━━━━━━━━\u001b[0m\u001b[37m\u001b[0m \u001b[1m0s\u001b[0m 902us/step - loss: 0.6112 - mae: 0.6112 - val_loss: 0.6029 - val_mae: 0.6029\n",
      "Epoch 43/100\n",
      "\u001b[1m449/449\u001b[0m \u001b[32m━━━━━━━━━━━━━━━━━━━━\u001b[0m\u001b[37m\u001b[0m \u001b[1m0s\u001b[0m 864us/step - loss: 0.6093 - mae: 0.6093 - val_loss: 0.8185 - val_mae: 0.8185\n",
      "Epoch 44/100\n",
      "\u001b[1m449/449\u001b[0m \u001b[32m━━━━━━━━━━━━━━━━━━━━\u001b[0m\u001b[37m\u001b[0m \u001b[1m0s\u001b[0m 839us/step - loss: 0.5973 - mae: 0.5973 - val_loss: 0.6024 - val_mae: 0.6024\n",
      "Epoch 45/100\n",
      "\u001b[1m449/449\u001b[0m \u001b[32m━━━━━━━━━━━━━━━━━━━━\u001b[0m\u001b[37m\u001b[0m \u001b[1m0s\u001b[0m 910us/step - loss: 0.6150 - mae: 0.6150 - val_loss: 0.6181 - val_mae: 0.6181\n",
      "Epoch 46/100\n",
      "\u001b[1m449/449\u001b[0m \u001b[32m━━━━━━━━━━━━━━━━━━━━\u001b[0m\u001b[37m\u001b[0m \u001b[1m0s\u001b[0m 864us/step - loss: 0.6009 - mae: 0.6009 - val_loss: 0.5862 - val_mae: 0.5862\n",
      "Epoch 47/100\n",
      "\u001b[1m449/449\u001b[0m \u001b[32m━━━━━━━━━━━━━━━━━━━━\u001b[0m\u001b[37m\u001b[0m \u001b[1m0s\u001b[0m 842us/step - loss: 0.6063 - mae: 0.6063 - val_loss: 0.6327 - val_mae: 0.6327\n",
      "Epoch 48/100\n",
      "\u001b[1m449/449\u001b[0m \u001b[32m━━━━━━━━━━━━━━━━━━━━\u001b[0m\u001b[37m\u001b[0m \u001b[1m0s\u001b[0m 901us/step - loss: 0.6076 - mae: 0.6076 - val_loss: 0.6588 - val_mae: 0.6588\n",
      "Epoch 49/100\n",
      "\u001b[1m449/449\u001b[0m \u001b[32m━━━━━━━━━━━━━━━━━━━━\u001b[0m\u001b[37m\u001b[0m \u001b[1m0s\u001b[0m 859us/step - loss: 0.5743 - mae: 0.5743 - val_loss: 0.6684 - val_mae: 0.6684\n",
      "Epoch 50/100\n",
      "\u001b[1m449/449\u001b[0m \u001b[32m━━━━━━━━━━━━━━━━━━━━\u001b[0m\u001b[37m\u001b[0m \u001b[1m0s\u001b[0m 898us/step - loss: 0.5729 - mae: 0.5729 - val_loss: 0.6900 - val_mae: 0.6900\n",
      "Epoch 51/100\n",
      "\u001b[1m449/449\u001b[0m \u001b[32m━━━━━━━━━━━━━━━━━━━━\u001b[0m\u001b[37m\u001b[0m \u001b[1m0s\u001b[0m 850us/step - loss: 0.6103 - mae: 0.6103 - val_loss: 0.6862 - val_mae: 0.6862\n",
      "Epoch 52/100\n",
      "\u001b[1m449/449\u001b[0m \u001b[32m━━━━━━━━━━━━━━━━━━━━\u001b[0m\u001b[37m\u001b[0m \u001b[1m0s\u001b[0m 849us/step - loss: 0.5847 - mae: 0.5847 - val_loss: 0.5880 - val_mae: 0.5880\n",
      "Epoch 53/100\n",
      "\u001b[1m449/449\u001b[0m \u001b[32m━━━━━━━━━━━━━━━━━━━━\u001b[0m\u001b[37m\u001b[0m \u001b[1m0s\u001b[0m 871us/step - loss: 0.5620 - mae: 0.5620 - val_loss: 0.5831 - val_mae: 0.5831\n",
      "Epoch 54/100\n",
      "\u001b[1m449/449\u001b[0m \u001b[32m━━━━━━━━━━━━━━━━━━━━\u001b[0m\u001b[37m\u001b[0m \u001b[1m0s\u001b[0m 871us/step - loss: 0.5696 - mae: 0.5696 - val_loss: 0.5720 - val_mae: 0.5720\n",
      "Epoch 55/100\n",
      "\u001b[1m449/449\u001b[0m \u001b[32m━━━━━━━━━━━━━━━━━━━━\u001b[0m\u001b[37m\u001b[0m \u001b[1m0s\u001b[0m 897us/step - loss: 0.5738 - mae: 0.5738 - val_loss: 0.5567 - val_mae: 0.5567\n",
      "Epoch 56/100\n",
      "\u001b[1m449/449\u001b[0m \u001b[32m━━━━━━━━━━━━━━━━━━━━\u001b[0m\u001b[37m\u001b[0m \u001b[1m0s\u001b[0m 847us/step - loss: 0.5759 - mae: 0.5759 - val_loss: 0.7109 - val_mae: 0.7109\n",
      "Epoch 57/100\n",
      "\u001b[1m449/449\u001b[0m \u001b[32m━━━━━━━━━━━━━━━━━━━━\u001b[0m\u001b[37m\u001b[0m \u001b[1m0s\u001b[0m 853us/step - loss: 0.5854 - mae: 0.5854 - val_loss: 0.5475 - val_mae: 0.5475\n",
      "Epoch 58/100\n",
      "\u001b[1m449/449\u001b[0m \u001b[32m━━━━━━━━━━━━━━━━━━━━\u001b[0m\u001b[37m\u001b[0m \u001b[1m0s\u001b[0m 904us/step - loss: 0.5621 - mae: 0.5621 - val_loss: 0.5350 - val_mae: 0.5350\n",
      "Epoch 59/100\n",
      "\u001b[1m449/449\u001b[0m \u001b[32m━━━━━━━━━━━━━━━━━━━━\u001b[0m\u001b[37m\u001b[0m \u001b[1m0s\u001b[0m 872us/step - loss: 0.5860 - mae: 0.5860 - val_loss: 0.6750 - val_mae: 0.6750\n",
      "Epoch 60/100\n",
      "\u001b[1m449/449\u001b[0m \u001b[32m━━━━━━━━━━━━━━━━━━━━\u001b[0m\u001b[37m\u001b[0m \u001b[1m0s\u001b[0m 901us/step - loss: 0.5746 - mae: 0.5746 - val_loss: 0.5922 - val_mae: 0.5922\n",
      "Epoch 61/100\n",
      "\u001b[1m449/449\u001b[0m \u001b[32m━━━━━━━━━━━━━━━━━━━━\u001b[0m\u001b[37m\u001b[0m \u001b[1m0s\u001b[0m 842us/step - loss: 0.5744 - mae: 0.5744 - val_loss: 0.6289 - val_mae: 0.6289\n",
      "Epoch 62/100\n",
      "\u001b[1m449/449\u001b[0m \u001b[32m━━━━━━━━━━━━━━━━━━━━\u001b[0m\u001b[37m\u001b[0m \u001b[1m0s\u001b[0m 892us/step - loss: 0.5829 - mae: 0.5829 - val_loss: 0.6262 - val_mae: 0.6262\n",
      "Epoch 63/100\n",
      "\u001b[1m449/449\u001b[0m \u001b[32m━━━━━━━━━━━━━━━━━━━━\u001b[0m\u001b[37m\u001b[0m \u001b[1m0s\u001b[0m 862us/step - loss: 0.5532 - mae: 0.5532 - val_loss: 0.6236 - val_mae: 0.6236\n",
      "Epoch 64/100\n",
      "\u001b[1m449/449\u001b[0m \u001b[32m━━━━━━━━━━━━━━━━━━━━\u001b[0m\u001b[37m\u001b[0m \u001b[1m0s\u001b[0m 897us/step - loss: 0.5421 - mae: 0.5421 - val_loss: 0.6365 - val_mae: 0.6365\n",
      "Epoch 65/100\n",
      "\u001b[1m449/449\u001b[0m \u001b[32m━━━━━━━━━━━━━━━━━━━━\u001b[0m\u001b[37m\u001b[0m \u001b[1m0s\u001b[0m 831us/step - loss: 0.5851 - mae: 0.5851 - val_loss: 0.6532 - val_mae: 0.6532\n",
      "Epoch 66/100\n",
      "\u001b[1m449/449\u001b[0m \u001b[32m━━━━━━━━━━━━━━━━━━━━\u001b[0m\u001b[37m\u001b[0m \u001b[1m0s\u001b[0m 898us/step - loss: 0.5614 - mae: 0.5614 - val_loss: 0.5354 - val_mae: 0.5354\n",
      "Epoch 67/100\n",
      "\u001b[1m449/449\u001b[0m \u001b[32m━━━━━━━━━━━━━━━━━━━━\u001b[0m\u001b[37m\u001b[0m \u001b[1m0s\u001b[0m 828us/step - loss: 0.5637 - mae: 0.5637 - val_loss: 0.5165 - val_mae: 0.5165\n",
      "Epoch 68/100\n",
      "\u001b[1m449/449\u001b[0m \u001b[32m━━━━━━━━━━━━━━━━━━━━\u001b[0m\u001b[37m\u001b[0m \u001b[1m0s\u001b[0m 874us/step - loss: 0.5901 - mae: 0.5901 - val_loss: 0.6017 - val_mae: 0.6017\n",
      "Epoch 69/100\n",
      "\u001b[1m449/449\u001b[0m \u001b[32m━━━━━━━━━━━━━━━━━━━━\u001b[0m\u001b[37m\u001b[0m \u001b[1m0s\u001b[0m 844us/step - loss: 0.6009 - mae: 0.6009 - val_loss: 0.7557 - val_mae: 0.7557\n",
      "Epoch 70/100\n",
      "\u001b[1m449/449\u001b[0m \u001b[32m━━━━━━━━━━━━━━━━━━━━\u001b[0m\u001b[37m\u001b[0m \u001b[1m0s\u001b[0m 865us/step - loss: 0.5549 - mae: 0.5549 - val_loss: 0.5454 - val_mae: 0.5454\n",
      "Epoch 71/100\n",
      "\u001b[1m449/449\u001b[0m \u001b[32m━━━━━━━━━━━━━━━━━━━━\u001b[0m\u001b[37m\u001b[0m \u001b[1m0s\u001b[0m 843us/step - loss: 0.5554 - mae: 0.5554 - val_loss: 0.5434 - val_mae: 0.5434\n",
      "Epoch 72/100\n",
      "\u001b[1m449/449\u001b[0m \u001b[32m━━━━━━━━━━━━━━━━━━━━\u001b[0m\u001b[37m\u001b[0m \u001b[1m0s\u001b[0m 842us/step - loss: 0.5306 - mae: 0.5306 - val_loss: 0.5687 - val_mae: 0.5687\n",
      "Epoch 73/100\n",
      "\u001b[1m449/449\u001b[0m \u001b[32m━━━━━━━━━━━━━━━━━━━━\u001b[0m\u001b[37m\u001b[0m \u001b[1m0s\u001b[0m 908us/step - loss: 0.5671 - mae: 0.5671 - val_loss: 0.5562 - val_mae: 0.5562\n",
      "Epoch 74/100\n",
      "\u001b[1m449/449\u001b[0m \u001b[32m━━━━━━━━━━━━━━━━━━━━\u001b[0m\u001b[37m\u001b[0m \u001b[1m0s\u001b[0m 887us/step - loss: 0.5268 - mae: 0.5268 - val_loss: 0.6117 - val_mae: 0.6117\n",
      "Epoch 75/100\n",
      "\u001b[1m449/449\u001b[0m \u001b[32m━━━━━━━━━━━━━━━━━━━━\u001b[0m\u001b[37m\u001b[0m \u001b[1m0s\u001b[0m 850us/step - loss: 0.5488 - mae: 0.5488 - val_loss: 0.5657 - val_mae: 0.5657\n",
      "Epoch 76/100\n",
      "\u001b[1m449/449\u001b[0m \u001b[32m━━━━━━━━━━━━━━━━━━━━\u001b[0m\u001b[37m\u001b[0m \u001b[1m0s\u001b[0m 893us/step - loss: 0.5667 - mae: 0.5667 - val_loss: 0.5405 - val_mae: 0.5405\n",
      "Epoch 77/100\n",
      "\u001b[1m449/449\u001b[0m \u001b[32m━━━━━━━━━━━━━━━━━━━━\u001b[0m\u001b[37m\u001b[0m \u001b[1m0s\u001b[0m 853us/step - loss: 0.5357 - mae: 0.5357 - val_loss: 0.6774 - val_mae: 0.6774\n",
      "Epoch 78/100\n",
      "\u001b[1m449/449\u001b[0m \u001b[32m━━━━━━━━━━━━━━━━━━━━\u001b[0m\u001b[37m\u001b[0m \u001b[1m0s\u001b[0m 898us/step - loss: 0.5842 - mae: 0.5842 - val_loss: 0.6945 - val_mae: 0.6945\n",
      "Epoch 79/100\n",
      "\u001b[1m449/449\u001b[0m \u001b[32m━━━━━━━━━━━━━━━━━━━━\u001b[0m\u001b[37m\u001b[0m \u001b[1m0s\u001b[0m 849us/step - loss: 0.5434 - mae: 0.5434 - val_loss: 0.5847 - val_mae: 0.5847\n",
      "Epoch 80/100\n",
      "\u001b[1m449/449\u001b[0m \u001b[32m━━━━━━━━━━━━━━━━━━━━\u001b[0m\u001b[37m\u001b[0m \u001b[1m0s\u001b[0m 887us/step - loss: 0.5260 - mae: 0.5260 - val_loss: 0.5746 - val_mae: 0.5746\n",
      "Epoch 81/100\n",
      "\u001b[1m449/449\u001b[0m \u001b[32m━━━━━━━━━━━━━━━━━━━━\u001b[0m\u001b[37m\u001b[0m \u001b[1m0s\u001b[0m 850us/step - loss: 0.5581 - mae: 0.5581 - val_loss: 0.6434 - val_mae: 0.6434\n",
      "Epoch 82/100\n",
      "\u001b[1m449/449\u001b[0m \u001b[32m━━━━━━━━━━━━━━━━━━━━\u001b[0m\u001b[37m\u001b[0m \u001b[1m0s\u001b[0m 882us/step - loss: 0.5577 - mae: 0.5577 - val_loss: 0.5203 - val_mae: 0.5203\n",
      "Epoch 83/100\n",
      "\u001b[1m449/449\u001b[0m \u001b[32m━━━━━━━━━━━━━━━━━━━━\u001b[0m\u001b[37m\u001b[0m \u001b[1m0s\u001b[0m 898us/step - loss: 0.5409 - mae: 0.5409 - val_loss: 0.5780 - val_mae: 0.5780\n",
      "Epoch 84/100\n",
      "\u001b[1m449/449\u001b[0m \u001b[32m━━━━━━━━━━━━━━━━━━━━\u001b[0m\u001b[37m\u001b[0m \u001b[1m0s\u001b[0m 855us/step - loss: 0.5325 - mae: 0.5325 - val_loss: 0.6047 - val_mae: 0.6047\n",
      "Epoch 85/100\n",
      "\u001b[1m449/449\u001b[0m \u001b[32m━━━━━━━━━━━━━━━━━━━━\u001b[0m\u001b[37m\u001b[0m \u001b[1m0s\u001b[0m 898us/step - loss: 0.5226 - mae: 0.5226 - val_loss: 0.5219 - val_mae: 0.5219\n",
      "Epoch 86/100\n",
      "\u001b[1m449/449\u001b[0m \u001b[32m━━━━━━━━━━━━━━━━━━━━\u001b[0m\u001b[37m\u001b[0m \u001b[1m0s\u001b[0m 853us/step - loss: 0.5432 - mae: 0.5432 - val_loss: 0.5267 - val_mae: 0.5267\n",
      "Epoch 87/100\n",
      "\u001b[1m449/449\u001b[0m \u001b[32m━━━━━━━━━━━━━━━━━━━━\u001b[0m\u001b[37m\u001b[0m \u001b[1m0s\u001b[0m 897us/step - loss: 0.5249 - mae: 0.5249 - val_loss: 0.5308 - val_mae: 0.5308\n",
      "Epoch 88/100\n",
      "\u001b[1m449/449\u001b[0m \u001b[32m━━━━━━━━━━━━━━━━━━━━\u001b[0m\u001b[37m\u001b[0m \u001b[1m0s\u001b[0m 899us/step - loss: 0.5531 - mae: 0.5531 - val_loss: 0.5353 - val_mae: 0.5353\n",
      "Epoch 89/100\n",
      "\u001b[1m449/449\u001b[0m \u001b[32m━━━━━━━━━━━━━━━━━━━━\u001b[0m\u001b[37m\u001b[0m \u001b[1m0s\u001b[0m 913us/step - loss: 0.5223 - mae: 0.5223 - val_loss: 0.5996 - val_mae: 0.5996\n",
      "Epoch 90/100\n",
      "\u001b[1m449/449\u001b[0m \u001b[32m━━━━━━━━━━━━━━━━━━━━\u001b[0m\u001b[37m\u001b[0m \u001b[1m0s\u001b[0m 834us/step - loss: 0.5591 - mae: 0.5591 - val_loss: 0.5408 - val_mae: 0.5408\n",
      "Epoch 91/100\n",
      "\u001b[1m449/449\u001b[0m \u001b[32m━━━━━━━━━━━━━━━━━━━━\u001b[0m\u001b[37m\u001b[0m \u001b[1m0s\u001b[0m 887us/step - loss: 0.5227 - mae: 0.5227 - val_loss: 0.5891 - val_mae: 0.5891\n",
      "Epoch 92/100\n",
      "\u001b[1m449/449\u001b[0m \u001b[32m━━━━━━━━━━━━━━━━━━━━\u001b[0m\u001b[37m\u001b[0m \u001b[1m0s\u001b[0m 874us/step - loss: 0.5471 - mae: 0.5471 - val_loss: 0.6696 - val_mae: 0.6696\n",
      "Epoch 93/100\n",
      "\u001b[1m449/449\u001b[0m \u001b[32m━━━━━━━━━━━━━━━━━━━━\u001b[0m\u001b[37m\u001b[0m \u001b[1m0s\u001b[0m 830us/step - loss: 0.5443 - mae: 0.5443 - val_loss: 0.6612 - val_mae: 0.6612\n",
      "Epoch 94/100\n",
      "\u001b[1m449/449\u001b[0m \u001b[32m━━━━━━━━━━━━━━━━━━━━\u001b[0m\u001b[37m\u001b[0m \u001b[1m0s\u001b[0m 884us/step - loss: 0.5488 - mae: 0.5488 - val_loss: 0.5436 - val_mae: 0.5436\n",
      "Epoch 95/100\n",
      "\u001b[1m449/449\u001b[0m \u001b[32m━━━━━━━━━━━━━━━━━━━━\u001b[0m\u001b[37m\u001b[0m \u001b[1m0s\u001b[0m 884us/step - loss: 0.5398 - mae: 0.5398 - val_loss: 0.5579 - val_mae: 0.5579\n",
      "Epoch 96/100\n",
      "\u001b[1m449/449\u001b[0m \u001b[32m━━━━━━━━━━━━━━━━━━━━\u001b[0m\u001b[37m\u001b[0m \u001b[1m0s\u001b[0m 839us/step - loss: 0.5611 - mae: 0.5611 - val_loss: 0.5496 - val_mae: 0.5496\n",
      "Epoch 97/100\n",
      "\u001b[1m449/449\u001b[0m \u001b[32m━━━━━━━━━━━━━━━━━━━━\u001b[0m\u001b[37m\u001b[0m \u001b[1m0s\u001b[0m 915us/step - loss: 0.5292 - mae: 0.5292 - val_loss: 0.5171 - val_mae: 0.5171\n",
      "Epoch 98/100\n",
      "\u001b[1m449/449\u001b[0m \u001b[32m━━━━━━━━━━━━━━━━━━━━\u001b[0m\u001b[37m\u001b[0m \u001b[1m0s\u001b[0m 881us/step - loss: 0.5093 - mae: 0.5093 - val_loss: 0.6281 - val_mae: 0.6281\n",
      "Epoch 99/100\n",
      "\u001b[1m449/449\u001b[0m \u001b[32m━━━━━━━━━━━━━━━━━━━━\u001b[0m\u001b[37m\u001b[0m \u001b[1m0s\u001b[0m 845us/step - loss: 0.5211 - mae: 0.5211 - val_loss: 0.5180 - val_mae: 0.5180\n",
      "Epoch 100/100\n",
      "\u001b[1m449/449\u001b[0m \u001b[32m━━━━━━━━━━━━━━━━━━━━\u001b[0m\u001b[37m\u001b[0m \u001b[1m0s\u001b[0m 879us/step - loss: 0.5387 - mae: 0.5387 - val_loss: 0.5060 - val_mae: 0.5060\n"
     ]
    }
   ],
   "source": [
    "history = model.fit(X_train_scaled, y_train, validation_data=(X_test_scaled, y_test), \n",
    "                    epochs=100, batch_size=32, verbose=1)\n"
   ]
  },
  {
   "cell_type": "code",
   "execution_count": 31,
   "id": "0eef3d98-1251-4ef6-b3bf-c973f1e4e7e0",
   "metadata": {},
   "outputs": [
    {
     "name": "stdout",
     "output_type": "stream",
     "text": [
      "\u001b[1m113/113\u001b[0m \u001b[32m━━━━━━━━━━━━━━━━━━━━\u001b[0m\u001b[37m\u001b[0m \u001b[1m0s\u001b[0m 893us/step\n",
      "Neural Network Test MAE: 0.5059633438250575\n"
     ]
    }
   ],
   "source": [
    "y_pred_nn = model.predict(X_test_scaled)\n",
    "\n",
    "nn_mae = mean_absolute_error(y_test, y_pred_nn)\n",
    "print(f\"Neural Network Test MAE: {nn_mae}\")\n"
   ]
  },
  {
   "cell_type": "code",
   "execution_count": 32,
   "id": "437e2a49-bee8-4cf8-84e3-51a7826f458d",
   "metadata": {},
   "outputs": [
    {
     "name": "stdout",
     "output_type": "stream",
     "text": [
      "\u001b[1m1/1\u001b[0m \u001b[32m━━━━━━━━━━━━━━━━━━━━\u001b[0m\u001b[37m\u001b[0m \u001b[1m0s\u001b[0m 18ms/step\n",
      "Neural Network Prediction: 96.07144165039062\n"
     ]
    },
    {
     "name": "stderr",
     "output_type": "stream",
     "text": [
      "C:\\Users\\Home\\AppData\\Local\\Programs\\Python\\Python312\\Lib\\site-packages\\sklearn\\base.py:493: UserWarning: X does not have valid feature names, but StandardScaler was fitted with feature names\n",
      "  warnings.warn(\n"
     ]
    }
   ],
   "source": [
    "sample_data = np.array([31, 96, 4, 4, 86, 95, 70, 92, 86, 97, 93, 94, 89, 96, 91, 86, 93, 95, 95, 85, \n",
    "                         68, 72, 88, 94, 48, 22, 94, 94, 75, 96, 33, 28, 26]).reshape(1, -1)\n",
    "\n",
    "sample_data_scaled = scaler.transform(sample_data)\n",
    "\n",
    "nn_pred = model.predict(sample_data_scaled)\n",
    "print(f\"Neural Network Prediction: {nn_pred[0][0]}\")\n"
   ]
  },
  {
   "cell_type": "code",
   "execution_count": 33,
   "id": "e399054c-1e75-4ced-9f14-07d3fcf00d01",
   "metadata": {},
   "outputs": [
    {
     "data": {
      "image/png": "[encoded data removed]",
      "text/plain": [
       "<Figure size 640x480 with 1 Axes>"
      ]
     },
     "metadata": {},
     "output_type": "display_data"
    }
   ],
   "source": [
    "import matplotlib.pyplot as plt\n",
    "\n",
    "plt.plot(history.history['mae'], label='Train MAE')\n",
    "plt.plot(history.history['val_mae'], label='Test MAE')\n",
    "plt.xlabel('Epochs')\n",
    "plt.ylabel('MAE')\n",
    "plt.legend()\n",
    "plt.show()\n"
   ]
  },
  {
   "cell_type": "code",
   "execution_count": 34,
   "id": "7c2af726-97a4-4926-afef-260ab8373eb4",
   "metadata": {},
   "outputs": [],
   "source": [
    "model.save(\"football_nn_model.keras\")"
   ]
  },
  {
   "cell_type": "code",
   "execution_count": 35,
   "id": "9226b9f5-f20a-4d65-ab34-1c4343851d3b",
   "metadata": {},
   "outputs": [
    {
     "name": "stderr",
     "output_type": "stream",
     "text": [
      "C:\\Users\\Home\\AppData\\Local\\Programs\\Python\\Python312\\Lib\\site-packages\\tqdm\\auto.py:21: TqdmWarning: IProgress not found. Please update jupyter and ipywidgets. See https://ipywidgets.readthedocs.io/en/stable/user_install.html\n",
      "  from .autonotebook import tqdm as notebook_tqdm\n"
     ]
    },
    {
     "name": "stdout",
     "output_type": "stream",
     "text": [
      "Running on local URL:  http://127.0.0.1:7860\n",
      "\n",
      "To create a public link, set `share=True` in `launch()`.\n"
     ]
    },
    {
     "data": {
      "text/html": [
       "<div><iframe src=\"http://127.0.0.1:7860/\" width=\"100%\" height=\"500\" allow=\"autoplay; camera; microphone; clipboard-read; clipboard-write;\" frameborder=\"0\" allowfullscreen></iframe></div>"
      ],
      "text/plain": [
       "<IPython.core.display.HTML object>"
      ]
     },
     "metadata": {},
     "output_type": "display_data"
    },
    {
     "data": {
      "text/plain": []
     },
     "execution_count": 35,
     "metadata": {},
     "output_type": "execute_result"
    },
    {
     "name": "stderr",
     "output_type": "stream",
     "text": [
      "C:\\Users\\Home\\AppData\\Local\\Programs\\Python\\Python312\\Lib\\site-packages\\sklearn\\base.py:493: UserWarning: X does not have valid feature names, but LinearRegression was fitted with feature names\n",
      "  warnings.warn(\n"
     ]
    }
   ],
   "source": [
    "import gradio as gr\n",
    "import numpy as np\n",
    "import matplotlib.pyplot as plt\n",
    "from tensorflow.keras.models import load_model\n",
    "\n",
    "def load_trained_model():\n",
    "    return load_model(\"football_nn_model.keras\")\n",
    "\n",
    "model = lr_model\n",
    "\n",
    "def predict_overall_rating(age, potential, weak_foot, skill, crossing, finishing, heading_accuracy, short_passing, volleys, dribbling, curve, freekick_accuracy, long_passing, ball_control, acceleration, sprint_speed, agility, reactions, balance, shot_power, jumping, stamina, strength, long_shots, aggression, interceptions, positioning, vision, penalties, composure, marking, standing_tackle, sliding_tackle\n",
    "):\n",
    "    input_data = np.array([[age, potential, weak_foot, skill, crossing, finishing, heading_accuracy, short_passing, volleys, dribbling, curve, freekick_accuracy, long_passing, ball_control, acceleration, sprint_speed, agility, reactions, balance, shot_power, jumping, stamina, strength, long_shots, aggression, interceptions, positioning, vision, penalties, composure, marking, standing_tackle, sliding_tackle\n",
    "]])\n",
    "    prediction = model.predict(input_data)[0][0]\n",
    "    return round(prediction, 2)\n",
    "\n",
    "def radar_chart(values):\n",
    "    labels = [\"Speed\", \"Dribbling\", \"Shooting\", \"Passing\", \"Strength\", \"Stamina\"]\n",
    "    angles = np.linspace(0, 2 * np.pi, len(labels), endpoint=False).tolist()\n",
    "    values += values[:1]\n",
    "    angles += angles[:1]\n",
    "    \n",
    "    fig, ax = plt.subplots(figsize=(6, 6), subplot_kw={'projection': 'polar'})\n",
    "    ax.fill(angles, values, color='blue', alpha=0.3)\n",
    "    ax.plot(angles, values, color='blue', linewidth=2)\n",
    "    ax.set_yticklabels([])\n",
    "    ax.set_xticks(angles[:-1])\n",
    "    ax.set_xticklabels(labels)\n",
    "    \n",
    "    return fig\n",
    "\n",
    "def combined_interface(age, potential, weak_foot, skill, crossing, finishing, heading_accuracy, short_passing, volleys, dribbling, curve, freekick_accuracy, long_passing, ball_control, acceleration, sprint_speed, agility, reactions, balance, shot_power, jumping, stamina, strength, long_shots, aggression, interceptions, positioning, vision, penalties, composure, marking, standing_tackle, sliding_tackle\n",
    "):\n",
    "    rating = predict_overall_rating(age, potential, weak_foot, skill, crossing, finishing, heading_accuracy, short_passing, volleys, dribbling, curve, freekick_accuracy, long_passing, ball_control, acceleration, sprint_speed, agility, reactions, balance, shot_power, jumping, stamina, strength, long_shots, aggression, interceptions, positioning, vision, penalties, composure, marking, standing_tackle, sliding_tackle\n",
    ")\n",
    "    radar = radar_chart([sprint_speed, dribbling, shot_power, short_passing, strength, stamina])\n",
    "    return rating, radar\n",
    "\n",
    "demo = gr.Interface(\n",
    "    fn=combined_interface,\n",
    "    inputs=[\n",
    "        gr.Slider(16, 45, step=1, label=\"Age\"),\n",
    "        gr.Slider(40, 99, step=1, label=\"Potential\"),\n",
    "        gr.Slider(1, 5, step=1, label=\"Weak Foot\"),\n",
    "        gr.Slider(1, 5, step=1, label=\"Skill Moves\"),\n",
    "        gr.Slider(30, 99, step=1, label=\"Crossing\"),\n",
    "        gr.Slider(30, 99, step=1, label=\"Finishing\"),\n",
    "        gr.Slider(30, 99, step=1, label=\"Heading\"),\n",
    "        gr.Slider(30, 99, step=1, label=\"Short_Passing\"),\n",
    "        gr.Slider(30, 99, step=1, label=\"Volleys\"),\n",
    "        gr.Slider(30, 99, step=1, label=\"Dribbling\"),\n",
    "        gr.Slider(30, 99, step=1, label=\"Curve\"),\n",
    "        gr.Slider(30, 99, step=1, label=\"Freekick\"),\n",
    "        gr.Slider(30, 99, step=1, label=\"Long Passing\"),\n",
    "        gr.Slider(30, 99, step=1, label=\"Ball Control\"),\n",
    "        gr.Slider(30, 99, step=1, label=\"Acceleration\"),\n",
    "        gr.Slider(30, 99, step=1, label=\"Sprint Speed\"),\n",
    "        gr.Slider(30, 99, step=1, label=\"Agility\"),\n",
    "        gr.Slider(30, 99, step=1, label=\"Reactions\"),\n",
    "        gr.Slider(30, 99, step=1, label=\"Balance\"),\n",
    "        gr.Slider(30, 99, step=1, label=\"Shot Power\"),\n",
    "        gr.Slider(30, 99, step=1, label=\"Jumping\"),\n",
    "        gr.Slider(30, 99, step=1, label=\"Stamina\"),\n",
    "        gr.Slider(30, 99, step=1, label=\"Strength\"),\n",
    "        gr.Slider(30, 99, step=1, label=\"Long Shots\"),\n",
    "        gr.Slider(30, 99, step=1, label=\"Aggression\"),\n",
    "        gr.Slider(30, 99, step=1, label=\"Interception\"),\n",
    "        gr.Slider(30, 99, step=1, label=\"Positioning\"),\n",
    "        gr.Slider(30, 99, step=1, label=\"Vision\"),\n",
    "        gr.Slider(30, 99, step=1, label=\"Penalties\"),\n",
    "        gr.Slider(30, 99, step=1, label=\"Composure\"),\n",
    "        gr.Slider(30, 99, step=1, label=\"Marking\"),\n",
    "        gr.Slider(30, 99, step=1, label=\"Standing Tackle\"),\n",
    "        gr.Slider(30, 99, step=1, label=\"Sliding Tackle\")\n",
    "    ],\n",
    "    outputs=[\n",
    "        gr.Textbox(label=\"Predicted Overall Rating\"),\n",
    "        gr.Plot(label=\"Player Attributes Radar Chart\")\n",
    "    ],\n",
    "    title=\"Football AI Player Rating Predictor\",\n",
    "    description=\"Adjust the sliders to set a player's attributes and get an AI-predicted overall rating!\"\n",
    ")\n",
    "\n",
    "demo.launch()\n"
   ]
  },
  {
   "cell_type": "code",
   "execution_count": null,
   "id": "350bab54-da05-473f-a2e9-5ec8a98d73cd",
   "metadata": {},
   "outputs": [],
   "source": []
  },
  {
   "cell_type": "code",
   "execution_count": null,
   "id": "6bacf733-d429-4767-827c-224ff2225772",
   "metadata": {},
   "outputs": [],
   "source": []
  },
  {
   "cell_type": "code",
   "execution_count": null,
   "id": "e115ed45-c819-4b78-96ab-85ae083d38f3",
   "metadata": {},
   "outputs": [],
   "source": []
  }
 ],
 "metadata": {
  "kernelspec": {
   "display_name": "Python 3 (ipykernel)",
   "language": "python",
   "name": "python3"
  },
  "language_info": {
   "codemirror_mode": {
    "name": "ipython",
    "version": 3
   },
   "file_extension": ".py",
   "mimetype": "text/x-python",
   "name": "python",
   "nbconvert_exporter": "python",
   "pygments_lexer": "ipython3",
   "version": "3.12.3"
  }
 },
 "nbformat": 4,
 "nbformat_minor": 5
}
